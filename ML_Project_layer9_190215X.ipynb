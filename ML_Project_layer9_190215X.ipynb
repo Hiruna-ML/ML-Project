{
 "cells": [
  {
   "cell_type": "code",
   "execution_count": 2,
   "metadata": {},
   "outputs": [
    {
     "name": "stdout",
     "output_type": "stream",
     "text": [
      "Collecting imblearn\n",
      "  Using cached imblearn-0.0-py2.py3-none-any.whl (1.9 kB)\n",
      "Collecting imbalanced-learn (from imblearn)\n",
      "  Obtaining dependency information for imbalanced-learn from https://files.pythonhosted.org/packages/a3/9e/fbe60a768502af54563dcb59ca7856f5a8833b3ad5ada658922e1ab09b7f/imbalanced_learn-0.11.0-py3-none-any.whl.metadata\n",
      "  Using cached imbalanced_learn-0.11.0-py3-none-any.whl.metadata (8.3 kB)\n",
      "Requirement already satisfied: numpy>=1.17.3 in /Users/hiruna/mambaforge/envs/ML-Lab2/lib/python3.9/site-packages (from imbalanced-learn->imblearn) (1.26.0)\n",
      "Requirement already satisfied: scipy>=1.5.0 in /Users/hiruna/mambaforge/envs/ML-Lab2/lib/python3.9/site-packages (from imbalanced-learn->imblearn) (1.11.3)\n",
      "Requirement already satisfied: scikit-learn>=1.0.2 in /Users/hiruna/mambaforge/envs/ML-Lab2/lib/python3.9/site-packages (from imbalanced-learn->imblearn) (1.3.1)\n",
      "Requirement already satisfied: joblib>=1.1.1 in /Users/hiruna/mambaforge/envs/ML-Lab2/lib/python3.9/site-packages (from imbalanced-learn->imblearn) (1.3.2)\n",
      "Requirement already satisfied: threadpoolctl>=2.0.0 in /Users/hiruna/mambaforge/envs/ML-Lab2/lib/python3.9/site-packages (from imbalanced-learn->imblearn) (3.2.0)\n",
      "Using cached imbalanced_learn-0.11.0-py3-none-any.whl (235 kB)\n",
      "Installing collected packages: imbalanced-learn, imblearn\n",
      "Successfully installed imbalanced-learn-0.11.0 imblearn-0.0\n"
     ]
    }
   ],
   "source": [
    "!pip install imblearn"
   ]
  },
  {
   "cell_type": "code",
   "execution_count": 5,
   "metadata": {
    "id": "bTrr9aVu0-rD"
   },
   "outputs": [],
   "source": [
    "import pandas as pd\n",
    "import numpy as np\n",
    "import matplotlib.pyplot as plt\n",
    "from sklearn import svm\n",
    "from sklearn.ensemble import RandomForestClassifier\n",
    "from sklearn.linear_model import LogisticRegression\n",
    "from sklearn.neighbors import KNeighborsClassifier\n",
    "from sklearn.preprocessing import StandardScaler\n",
    "from sklearn.model_selection import GridSearchCV, cross_val_score, RandomizedSearchCV\n",
    "from sklearn.metrics import accuracy_score\n",
    "from sklearn.metrics import mean_squared_error\n",
    "from sklearn.decomposition import PCA\n",
    "from sklearn.preprocessing import StandardScaler, RobustScaler\n",
    "import math\n",
    "import seaborn as sn\n",
    "from imblearn.over_sampling import RandomOverSampler"
   ]
  },
  {
   "cell_type": "code",
   "execution_count": 6,
   "metadata": {
    "id": "bjZgD5aC1MAq"
   },
   "outputs": [],
   "source": [
    "import warnings\n",
    "warnings.filterwarnings('ignore')"
   ]
  },
  {
   "cell_type": "code",
   "execution_count": 7,
   "metadata": {
    "id": "7IaV2u4R1Ov0"
   },
   "outputs": [],
   "source": [
    "train = pd.read_csv('Inputs/Layer-9/train.csv')\n",
    "valid = pd.read_csv('Inputs/Layer-9/valid.csv')\n",
    "test = pd.read_csv('Inputs/Layer-9/test.csv')"
   ]
  },
  {
   "cell_type": "code",
   "execution_count": 8,
   "metadata": {
    "colab": {
     "base_uri": "https://localhost:8080/"
    },
    "id": "hoWGm46R9UJa",
    "outputId": "857e9bab-fb08-45e0-e313-18c9f1c3046c"
   },
   "outputs": [
    {
     "name": "stdout",
     "output_type": "stream",
     "text": [
      "<class 'pandas.core.frame.DataFrame'>\n",
      "RangeIndex: 28520 entries, 0 to 28519\n",
      "Columns: 772 entries, feature_1 to label_4\n",
      "dtypes: float64(769), int64(3)\n",
      "memory usage: 168.0 MB\n"
     ]
    }
   ],
   "source": [
    "train.info()"
   ]
  },
  {
   "cell_type": "code",
   "execution_count": 9,
   "metadata": {
    "colab": {
     "base_uri": "https://localhost:8080/"
    },
    "id": "gx2CuUpH1nxV",
    "outputId": "83a22840-883d-45d8-b2ee-b7ce04a02105"
   },
   "outputs": [
    {
     "data": {
      "text/plain": [
       "feature_1        0\n",
       "feature_2        0\n",
       "feature_3        0\n",
       "feature_4        0\n",
       "feature_5        0\n",
       "              ... \n",
       "feature_768      0\n",
       "label_1          0\n",
       "label_2        480\n",
       "label_3          0\n",
       "label_4          0\n",
       "Length: 772, dtype: int64"
      ]
     },
     "execution_count": 9,
     "metadata": {},
     "output_type": "execute_result"
    }
   ],
   "source": [
    "train.isna().sum()"
   ]
  },
  {
   "cell_type": "code",
   "execution_count": 10,
   "metadata": {
    "colab": {
     "base_uri": "https://localhost:8080/"
    },
    "id": "ZVadONjdHZUm",
    "outputId": "3cce156d-324a-4c10-f296-a67400cec0de"
   },
   "outputs": [
    {
     "data": {
      "text/plain": [
       "Index(['feature_1', 'feature_2', 'feature_3', 'feature_4', 'feature_5',\n",
       "       'feature_6', 'feature_7', 'feature_8', 'feature_9', 'feature_10',\n",
       "       ...\n",
       "       'feature_763', 'feature_764', 'feature_765', 'feature_766',\n",
       "       'feature_767', 'feature_768', 'label_1', 'label_2', 'label_3',\n",
       "       'label_4'],\n",
       "      dtype='object', length=772)"
      ]
     },
     "execution_count": 10,
     "metadata": {},
     "output_type": "execute_result"
    }
   ],
   "source": [
    "train.columns"
   ]
  },
  {
   "cell_type": "code",
   "execution_count": 11,
   "metadata": {
    "colab": {
     "base_uri": "https://localhost:8080/"
    },
    "id": "wuz1rrQyHiuZ",
    "outputId": "8a3caf74-df53-464a-cadf-ac0fd4bc91a7"
   },
   "outputs": [
    {
     "data": {
      "text/plain": [
       "Index(['feature_1', 'feature_2', 'feature_3', 'feature_4', 'feature_5',\n",
       "       'feature_6', 'feature_7', 'feature_8', 'feature_9', 'feature_10',\n",
       "       ...\n",
       "       'feature_763', 'feature_764', 'feature_765', 'feature_766',\n",
       "       'feature_767', 'feature_768', 'label_1', 'label_2', 'label_3',\n",
       "       'label_4'],\n",
       "      dtype='object', length=772)"
      ]
     },
     "execution_count": 11,
     "metadata": {},
     "output_type": "execute_result"
    }
   ],
   "source": [
    "valid.columns"
   ]
  },
  {
   "cell_type": "code",
   "execution_count": 12,
   "metadata": {
    "colab": {
     "base_uri": "https://localhost:8080/"
    },
    "id": "iUH47ztlHoLq",
    "outputId": "259e9617-d519-41f6-bd90-a150cc721e77"
   },
   "outputs": [
    {
     "data": {
      "text/plain": [
       "Index(['ID', 'feature_1', 'feature_2', 'feature_3', 'feature_4', 'feature_5',\n",
       "       'feature_6', 'feature_7', 'feature_8', 'feature_9',\n",
       "       ...\n",
       "       'feature_759', 'feature_760', 'feature_761', 'feature_762',\n",
       "       'feature_763', 'feature_764', 'feature_765', 'feature_766',\n",
       "       'feature_767', 'feature_768'],\n",
       "      dtype='object', length=769)"
      ]
     },
     "execution_count": 12,
     "metadata": {},
     "output_type": "execute_result"
    }
   ],
   "source": [
    "test.columns"
   ]
  },
  {
   "cell_type": "code",
   "execution_count": 13,
   "metadata": {},
   "outputs": [],
   "source": [
    "def getModels():\n",
    "    return {\n",
    "        'svm' : svm.SVC(),\n",
    "        'random_forest' : RandomForestClassifier(),\n",
    "        'logistic_regression' : LogisticRegression(solver = 'liblinear', multi_class = 'auto'),\n",
    "        'knn' : KNeighborsClassifier()\n",
    "    }"
   ]
  },
  {
   "cell_type": "markdown",
   "metadata": {
    "id": "IQWs4KlzAcX1"
   },
   "source": [
    "### **Label 1**"
   ]
  },
  {
   "cell_type": "code",
   "execution_count": 14,
   "metadata": {
    "id": "ruo0WgHxGtjn"
   },
   "outputs": [],
   "source": [
    "x_train = train.drop(['label_1', 'label_2', 'label_3', 'label_4'], axis=1)\n",
    "x_valid = valid.drop(['label_1', 'label_2', 'label_3', 'label_4'], axis=1)\n",
    "x_test = test.drop(['ID'], axis=1)\n",
    "\n",
    "y_train = train[['label_1', 'label_2', 'label_3', 'label_4']]\n",
    "y_valid = valid[['label_1', 'label_2', 'label_3', 'label_4']]"
   ]
  },
  {
   "cell_type": "code",
   "execution_count": 15,
   "metadata": {},
   "outputs": [
    {
     "data": {
      "image/png": "[encoded data removed]",
      "text/plain": [
       "<Figure size 1000x600 with 1 Axes>"
      ]
     },
     "metadata": {},
     "output_type": "display_data"
    }
   ],
   "source": [
    "label1_value_counts = y_train['label_1'].value_counts()\n",
    "\n",
    "plt.figure(figsize=(10, 6))\n",
    "plt.bar(label1_value_counts.index, label1_value_counts.values)\n",
    "\n",
    "\n",
    "plt.xlabel('Label 1')\n",
    "plt.ylabel('Count')\n",
    "plt.title('Label 1 values distribution')\n",
    "\n",
    "plt.tight_layout() \n",
    "plt.show()"
   ]
  },
  {
   "cell_type": "code",
   "execution_count": 17,
   "metadata": {},
   "outputs": [],
   "source": [
    "\n",
    "# scores = []\n",
    "# for model_name, model in getModels().items():\n",
    "#     fold_scores = cross_val_score(model, x_train, y_train['label_1'], cv=5, scoring='accuracy', n_jobs = -1)\n",
    "#     scores.append({\n",
    "#         'model' : model_name,\n",
    "#         'score' : np.mean(fold_scores)\n",
    "#     })  \n",
    "\n",
    "# df = pd.DataFrame(scores, columns = ['model', 'score'])\n",
    "# df"
   ]
  },
  {
   "cell_type": "code",
   "execution_count": 18,
   "metadata": {},
   "outputs": [
    {
     "data": {
      "text/html": [
       "<div>\n",
       "<style scoped>\n",
       "    .dataframe tbody tr th:only-of-type {\n",
       "        vertical-align: middle;\n",
       "    }\n",
       "\n",
       "    .dataframe tbody tr th {\n",
       "        vertical-align: top;\n",
       "    }\n",
       "\n",
       "    .dataframe thead th {\n",
       "        text-align: right;\n",
       "    }\n",
       "</style>\n",
       "<table border=\"1\" class=\"dataframe\">\n",
       "  <thead>\n",
       "    <tr style=\"text-align: right;\">\n",
       "      <th></th>\n",
       "      <th>model</th>\n",
       "      <th>score</th>\n",
       "    </tr>\n",
       "  </thead>\n",
       "  <tbody>\n",
       "    <tr>\n",
       "      <th>0</th>\n",
       "      <td>svm</td>\n",
       "      <td>0.933941</td>\n",
       "    </tr>\n",
       "    <tr>\n",
       "      <th>1</th>\n",
       "      <td>random_forest</td>\n",
       "      <td>0.849895</td>\n",
       "    </tr>\n",
       "    <tr>\n",
       "      <th>2</th>\n",
       "      <td>logistic_regression</td>\n",
       "      <td>0.934151</td>\n",
       "    </tr>\n",
       "    <tr>\n",
       "      <th>3</th>\n",
       "      <td>knn</td>\n",
       "      <td>0.873597</td>\n",
       "    </tr>\n",
       "  </tbody>\n",
       "</table>\n",
       "</div>"
      ],
      "text/plain": [
       "                 model     score\n",
       "0                  svm  0.933941\n",
       "1        random_forest  0.849895\n",
       "2  logistic_regression  0.934151\n",
       "3                  knn  0.873597"
      ]
     },
     "execution_count": 18,
     "metadata": {},
     "output_type": "execute_result"
    }
   ],
   "source": [
    "pca = PCA(n_components=0.95, svd_solver = 'full')\n",
    "x_train_pca = pca.fit_transform(x_train)\n",
    "x_val_pca = pca.transform(x_valid)\n",
    "x_test_pca = pca.transform(x_test)\n",
    "\n",
    "scores_pca = []\n",
    "for model_name, model in getModels().items():\n",
    "    fold_scores = cross_val_score(model, x_train_pca, y_train['label_1'], cv=3, scoring='accuracy', n_jobs = -1)\n",
    "    scores_pca.append({\n",
    "        'model' : model_name,\n",
    "        'score' : np.mean(fold_scores)\n",
    "    })  \n",
    "\n",
    "df_pca = pd.DataFrame(scores_pca, columns = ['model', 'score'])\n",
    "df_pca"
   ]
  },
  {
   "cell_type": "code",
   "execution_count": 19,
   "metadata": {
    "id": "_8YzBNijesZk"
   },
   "outputs": [
    {
     "data": {
      "text/plain": [
       "dict_items([('svm', {'model': SVC(gamma='auto'), 'params': {'C': [1, 10, 100], 'kernel': ['rbf', 'linear']}}), ('logistic_regression', {'model': LogisticRegression(solver='liblinear'), 'params': {'C': [1, 10, 100]}})])"
      ]
     },
     "execution_count": 19,
     "metadata": {},
     "output_type": "execute_result"
    }
   ],
   "source": [
    "model_data = {\n",
    "    'svm' : {\n",
    "        'model':svm.SVC(gamma = 'auto'),\n",
    "        'params' : {\n",
    "            'C': [1, 10, 100],\n",
    "            'kernel': ['rbf', 'linear']}\n",
    "    },\n",
    "    'logistic_regression' : {\n",
    "        'model':LogisticRegression(solver = 'liblinear', multi_class = 'auto'),\n",
    "        'params' : {\n",
    "            'C': [1, 10, 100]\n",
    "        }\n",
    "    }\n",
    "}\n",
    "\n",
    "model_data.items()"
   ]
  },
  {
   "cell_type": "code",
   "execution_count": 20,
   "metadata": {},
   "outputs": [],
   "source": [
    "accuracy_scores = []\n",
    "\n",
    "for model_name, model_info in model_data.items():\n",
    "  clf = RandomizedSearchCV(model_info['model'], model_info['params'], cv = 3, return_train_score = False, n_jobs = -1, n_iter = 3)\n",
    "  clf.fit(x_train_pca, y_train['label_1'])\n",
    "  accuracy_scores.append({\n",
    "      'model' : model_name,\n",
    "      'best_score' : clf.best_score_,\n",
    "      'best_params' : clf.best_params_\n",
    "  })"
   ]
  },
  {
   "cell_type": "code",
   "execution_count": 21,
   "metadata": {
    "id": "nzq0PbbciW8M"
   },
   "outputs": [
    {
     "data": {
      "text/html": [
       "<div>\n",
       "<style scoped>\n",
       "    .dataframe tbody tr th:only-of-type {\n",
       "        vertical-align: middle;\n",
       "    }\n",
       "\n",
       "    .dataframe tbody tr th {\n",
       "        vertical-align: top;\n",
       "    }\n",
       "\n",
       "    .dataframe thead th {\n",
       "        text-align: right;\n",
       "    }\n",
       "</style>\n",
       "<table border=\"1\" class=\"dataframe\">\n",
       "  <thead>\n",
       "    <tr style=\"text-align: right;\">\n",
       "      <th></th>\n",
       "      <th>model</th>\n",
       "      <th>best_score</th>\n",
       "      <th>best_params</th>\n",
       "    </tr>\n",
       "  </thead>\n",
       "  <tbody>\n",
       "    <tr>\n",
       "      <th>0</th>\n",
       "      <td>svm</td>\n",
       "      <td>0.939095</td>\n",
       "      <td>{'kernel': 'rbf', 'C': 100}</td>\n",
       "    </tr>\n",
       "    <tr>\n",
       "      <th>1</th>\n",
       "      <td>logistic_regression</td>\n",
       "      <td>0.946459</td>\n",
       "      <td>{'C': 10}</td>\n",
       "    </tr>\n",
       "  </tbody>\n",
       "</table>\n",
       "</div>"
      ],
      "text/plain": [
       "                 model  best_score                  best_params\n",
       "0                  svm    0.939095  {'kernel': 'rbf', 'C': 100}\n",
       "1  logistic_regression    0.946459                    {'C': 10}"
      ]
     },
     "execution_count": 21,
     "metadata": {},
     "output_type": "execute_result"
    }
   ],
   "source": [
    "df_hyp_tuning = pd.DataFrame(accuracy_scores, columns = ['model', 'best_score', 'best_params'])\n",
    "df_hyp_tuning"
   ]
  },
  {
   "cell_type": "code",
   "execution_count": 28,
   "metadata": {},
   "outputs": [
    {
     "name": "stderr",
     "output_type": "stream",
     "text": [
      "/Users/hiruna/mambaforge/envs/ML-Lab2/lib/python3.9/site-packages/sklearn/linear_model/_logistic.py:460: ConvergenceWarning: lbfgs failed to converge (status=1):\n",
      "STOP: TOTAL NO. of ITERATIONS REACHED LIMIT.\n",
      "\n",
      "Increase the number of iterations (max_iter) or scale the data as shown in:\n",
      "    https://scikit-learn.org/stable/modules/preprocessing.html\n",
      "Please also refer to the documentation for alternative solver options:\n",
      "    https://scikit-learn.org/stable/modules/linear_model.html#logistic-regression\n",
      "  n_iter_i = _check_optimize_result(\n",
      "/Users/hiruna/mambaforge/envs/ML-Lab2/lib/python3.9/site-packages/sklearn/linear_model/_logistic.py:460: ConvergenceWarning: lbfgs failed to converge (status=1):\n",
      "STOP: TOTAL NO. of ITERATIONS REACHED LIMIT.\n",
      "\n",
      "Increase the number of iterations (max_iter) or scale the data as shown in:\n",
      "    https://scikit-learn.org/stable/modules/preprocessing.html\n",
      "Please also refer to the documentation for alternative solver options:\n",
      "    https://scikit-learn.org/stable/modules/linear_model.html#logistic-regression\n",
      "  n_iter_i = _check_optimize_result(\n",
      "/Users/hiruna/mambaforge/envs/ML-Lab2/lib/python3.9/site-packages/sklearn/linear_model/_logistic.py:460: ConvergenceWarning: lbfgs failed to converge (status=1):\n",
      "STOP: TOTAL NO. of ITERATIONS REACHED LIMIT.\n",
      "\n",
      "Increase the number of iterations (max_iter) or scale the data as shown in:\n",
      "    https://scikit-learn.org/stable/modules/preprocessing.html\n",
      "Please also refer to the documentation for alternative solver options:\n",
      "    https://scikit-learn.org/stable/modules/linear_model.html#logistic-regression\n",
      "  n_iter_i = _check_optimize_result(\n"
     ]
    },
    {
     "data": {
      "text/plain": [
       "array([0.516, 0.556, 0.596])"
      ]
     },
     "execution_count": 28,
     "metadata": {},
     "output_type": "execute_result"
    }
   ],
   "source": [
    "best_model_l1 = LogisticRegression(C=100)\n",
    "best_model_l1.fit(x_train_pca, y_train['label_1'])\n",
    "\n",
    "#cross validation for best model using validation set\n",
    "cross_val_score(best_model_l1, x_val_pca, y_valid['label_1'], cv=3, scoring='accuracy', n_jobs = -1)"
   ]
  },
  {
   "cell_type": "code",
   "execution_count": 29,
   "metadata": {},
   "outputs": [
    {
     "data": {
      "text/plain": [
       "(744,)"
      ]
     },
     "execution_count": 29,
     "metadata": {},
     "output_type": "execute_result"
    }
   ],
   "source": [
    "y_test_label1 = best_model_l1.predict(x_test_pca)\n",
    "y_test_label1.shape"
   ]
  },
  {
   "cell_type": "markdown",
   "metadata": {},
   "source": [
    "## **Label 2**"
   ]
  },
  {
   "cell_type": "code",
   "execution_count": 30,
   "metadata": {},
   "outputs": [
    {
     "data": {
      "text/plain": [
       "480"
      ]
     },
     "execution_count": 30,
     "metadata": {},
     "output_type": "execute_result"
    }
   ],
   "source": [
    "train['label_2'].isnull().sum()"
   ]
  },
  {
   "cell_type": "code",
   "execution_count": 31,
   "metadata": {},
   "outputs": [
    {
     "data": {
      "text/plain": [
       "14"
      ]
     },
     "execution_count": 31,
     "metadata": {},
     "output_type": "execute_result"
    }
   ],
   "source": [
    "valid['label_2'].isnull().sum()"
   ]
  },
  {
   "cell_type": "code",
   "execution_count": 32,
   "metadata": {},
   "outputs": [
    {
     "data": {
      "text/plain": [
       "0"
      ]
     },
     "execution_count": 32,
     "metadata": {},
     "output_type": "execute_result"
    }
   ],
   "source": [
    "train_l2 = train.dropna(subset = ['label_2'])\n",
    "train_l2['label_2'].isnull().sum()"
   ]
  },
  {
   "cell_type": "code",
   "execution_count": 33,
   "metadata": {},
   "outputs": [
    {
     "data": {
      "text/plain": [
       "0"
      ]
     },
     "execution_count": 33,
     "metadata": {},
     "output_type": "execute_result"
    }
   ],
   "source": [
    "valid_l2 = valid.dropna(subset = ['label_2'])\n",
    "valid_l2['label_2'].isnull().sum()"
   ]
  },
  {
   "cell_type": "code",
   "execution_count": 34,
   "metadata": {},
   "outputs": [],
   "source": [
    "x_train = train_l2.drop(['label_1', 'label_2', 'label_3', 'label_4'], axis=1)\n",
    "x_valid = valid_l2.drop(['label_1', 'label_2', 'label_3', 'label_4'], axis=1)\n",
    "x_test = test.drop(['ID'], axis=1)\n",
    "\n",
    "y_train = train_l2[['label_1', 'label_2', 'label_3', 'label_4']]\n",
    "y_valid = valid_l2[['label_1', 'label_2', 'label_3', 'label_4']]"
   ]
  },
  {
   "cell_type": "code",
   "execution_count": 35,
   "metadata": {},
   "outputs": [
    {
     "data": {
      "image/png": "[encoded data removed]",
      "text/plain": [
       "<Figure size 1000x600 with 1 Axes>"
      ]
     },
     "metadata": {},
     "output_type": "display_data"
    }
   ],
   "source": [
    "label2_value_counts = y_train['label_2'].value_counts()\n",
    "\n",
    "plt.figure(figsize=(10, 6))\n",
    "bars = plt.bar(label2_value_counts.index, label2_value_counts.values)\n",
    "\n",
    "\n",
    "plt.xlabel('Label 2')\n",
    "plt.ylabel('Count')\n",
    "plt.title('Label 2 values distribution')\n",
    "\n",
    "for bar, count in zip(bars, label2_value_counts.values):\n",
    "    plt.annotate(str(count), xy=(bar.get_x() + bar.get_width() / 2, bar.get_height()), \n",
    "                 xytext=(0, 3), textcoords='offset points', ha='center', va='bottom')\n",
    "\n",
    "\n",
    "plt.tight_layout() \n",
    "plt.show()"
   ]
  },
  {
   "cell_type": "code",
   "execution_count": 36,
   "metadata": {},
   "outputs": [],
   "source": [
    "scaler = RobustScaler()\n",
    "x_train_scaled = scaler.fit_transform(x_train)\n",
    "x_val_scaled = scaler.transform(x_valid)\n",
    "x_test_scaled = scaler.transform(x_test)"
   ]
  },
  {
   "cell_type": "code",
   "execution_count": 37,
   "metadata": {},
   "outputs": [],
   "source": [
    "# scores = []\n",
    "# for model_name, model in getModels().items():\n",
    "#     fold_scores = cross_val_score(model, x_train_scaled, y_train['label_2'], cv=3, scoring='accuracy', n_jobs = -1)\n",
    "#     scores.append({\n",
    "#         'model' : model_name,\n",
    "#         'score' : np.mean(fold_scores)\n",
    "#     })  \n",
    "\n",
    "# df_raw = pd.DataFrame(scores, columns = ['model', 'score'])\n",
    "# df_raw"
   ]
  },
  {
   "cell_type": "code",
   "execution_count": 38,
   "metadata": {},
   "outputs": [
    {
     "data": {
      "text/html": [
       "<div>\n",
       "<style scoped>\n",
       "    .dataframe tbody tr th:only-of-type {\n",
       "        vertical-align: middle;\n",
       "    }\n",
       "\n",
       "    .dataframe tbody tr th {\n",
       "        vertical-align: top;\n",
       "    }\n",
       "\n",
       "    .dataframe thead th {\n",
       "        text-align: right;\n",
       "    }\n",
       "</style>\n",
       "<table border=\"1\" class=\"dataframe\">\n",
       "  <thead>\n",
       "    <tr style=\"text-align: right;\">\n",
       "      <th></th>\n",
       "      <th>model</th>\n",
       "      <th>score</th>\n",
       "    </tr>\n",
       "  </thead>\n",
       "  <tbody>\n",
       "    <tr>\n",
       "      <th>0</th>\n",
       "      <td>svm</td>\n",
       "      <td>0.341226</td>\n",
       "    </tr>\n",
       "    <tr>\n",
       "      <th>1</th>\n",
       "      <td>random_forest</td>\n",
       "      <td>0.250213</td>\n",
       "    </tr>\n",
       "    <tr>\n",
       "      <th>2</th>\n",
       "      <td>logistic_regression</td>\n",
       "      <td>0.297895</td>\n",
       "    </tr>\n",
       "    <tr>\n",
       "      <th>3</th>\n",
       "      <td>knn</td>\n",
       "      <td>0.331204</td>\n",
       "    </tr>\n",
       "  </tbody>\n",
       "</table>\n",
       "</div>"
      ],
      "text/plain": [
       "                 model     score\n",
       "0                  svm  0.341226\n",
       "1        random_forest  0.250213\n",
       "2  logistic_regression  0.297895\n",
       "3                  knn  0.331204"
      ]
     },
     "execution_count": 38,
     "metadata": {},
     "output_type": "execute_result"
    }
   ],
   "source": [
    "pca = PCA(n_components=0.95, svd_solver = 'full')\n",
    "x_train_pca = pca.fit_transform(x_train_scaled)\n",
    "x_val_pca = pca.transform(x_val_scaled)\n",
    "x_test_pca = pca.transform(x_test_scaled)\n",
    "\n",
    "scores_pca = []\n",
    "for model_name, model in getModels().items():\n",
    "    fold_scores = cross_val_score(model, x_train_pca, y_train['label_2'], cv=3, scoring='accuracy', n_jobs = -1)\n",
    "    scores_pca.append({\n",
    "        'model' : model_name,\n",
    "        'score' : np.mean(fold_scores)\n",
    "    })  \n",
    "\n",
    "df_pca = pd.DataFrame(scores_pca, columns = ['model', 'score'])\n",
    "df_pca"
   ]
  },
  {
   "cell_type": "code",
   "execution_count": 41,
   "metadata": {},
   "outputs": [
    {
     "data": {
      "text/plain": [
       "dict_items([('svm', {'model': SVC(gamma='auto'), 'params': {'C': [1, 10, 100], 'kernel': ['rbf', 'linear']}}), ('knn', {'model': KNeighborsClassifier(), 'params': {'n_neighbors': [1, 2, 3, 4], 'p': [1, 2]}})])"
      ]
     },
     "execution_count": 41,
     "metadata": {},
     "output_type": "execute_result"
    }
   ],
   "source": [
    "model_data = {\n",
    "    'svm' : {\n",
    "        'model':svm.SVC(gamma = 'auto'),\n",
    "        'params' : {\n",
    "            'C': [1, 10, 100],\n",
    "            'kernel': ['rbf', 'linear']}\n",
    "    },\n",
    "    'knn' : {\n",
    "        'model' : KNeighborsClassifier(),\n",
    "        'params' : {\n",
    "            'n_neighbors' : list(range(1,5)),\n",
    "            'p' : [1,2]\n",
    "        }\n",
    "    }\n",
    "}\n",
    "\n",
    "model_data.items()"
   ]
  },
  {
   "cell_type": "code",
   "execution_count": 42,
   "metadata": {},
   "outputs": [],
   "source": [
    "accuracy_scores = []\n",
    "\n",
    "for model_name, model_info in model_data.items():\n",
    "  clf = RandomizedSearchCV(model_info['model'], model_info['params'], cv = 3, return_train_score = False, n_jobs = -1, n_iter = 5)\n",
    "  clf.fit(x_train_pca, y_train['label_2'])\n",
    "  accuracy_scores.append({\n",
    "      'model' : model_name,\n",
    "      'best_score' : clf.best_score_,\n",
    "      'best_params' : clf.best_params_\n",
    "  })"
   ]
  },
  {
   "cell_type": "code",
   "execution_count": null,
   "metadata": {},
   "outputs": [
    {
     "data": {
      "text/html": [
       "<div>\n",
       "<style scoped>\n",
       "    .dataframe tbody tr th:only-of-type {\n",
       "        vertical-align: middle;\n",
       "    }\n",
       "\n",
       "    .dataframe tbody tr th {\n",
       "        vertical-align: top;\n",
       "    }\n",
       "\n",
       "    .dataframe thead th {\n",
       "        text-align: right;\n",
       "    }\n",
       "</style>\n",
       "<table border=\"1\" class=\"dataframe\">\n",
       "  <thead>\n",
       "    <tr style=\"text-align: right;\">\n",
       "      <th></th>\n",
       "      <th>model</th>\n",
       "      <th>best_score</th>\n",
       "      <th>best_params</th>\n",
       "    </tr>\n",
       "  </thead>\n",
       "  <tbody>\n",
       "    <tr>\n",
       "      <th>0</th>\n",
       "      <td>svm</td>\n",
       "      <td>0.328280</td>\n",
       "      <td>{'C': 10, 'kernel': 'linear'}</td>\n",
       "    </tr>\n",
       "    <tr>\n",
       "      <th>1</th>\n",
       "      <td>logistic_regression</td>\n",
       "      <td>0.324179</td>\n",
       "      <td>{'C': 100}</td>\n",
       "    </tr>\n",
       "    <tr>\n",
       "      <th>2</th>\n",
       "      <td>knn</td>\n",
       "      <td>0.354635</td>\n",
       "      <td>{'n_neighbors': 1, 'p': 2}</td>\n",
       "    </tr>\n",
       "  </tbody>\n",
       "</table>\n",
       "</div>"
      ],
      "text/plain": [
       "                 model  best_score                    best_params\n",
       "0                  svm    0.328280  {'C': 10, 'kernel': 'linear'}\n",
       "1  logistic_regression    0.324179                     {'C': 100}\n",
       "2                  knn    0.354635     {'n_neighbors': 1, 'p': 2}"
      ]
     },
     "execution_count": 30,
     "metadata": {},
     "output_type": "execute_result"
    }
   ],
   "source": [
    "df_hyp_tuning = pd.DataFrame(accuracy_scores, columns = ['model', 'best_score', 'best_params'])\n",
    "df_hyp_tuning"
   ]
  },
  {
   "cell_type": "code",
   "execution_count": null,
   "metadata": {},
   "outputs": [
    {
     "data": {
      "text/plain": [
       "0.8899456521739131"
      ]
     },
     "execution_count": 31,
     "metadata": {},
     "output_type": "execute_result"
    }
   ],
   "source": [
    "best_model_l2 = KNeighborsClassifier(n_neighbors = 1, p = 2)\n",
    "best_model_l2.fit(x_train_pca, y_train['label_2'])\n",
    "\n",
    "#cross validation for best model using validation set\n",
    "fold_scores_l2 = cross_val_score(best_model_l2, x_val_pca, y_valid['label_2'], cv=3, scoring='accuracy', n_jobs = -1)\n",
    "np.mean(fold_scores_l2)"
   ]
  },
  {
   "cell_type": "code",
   "execution_count": null,
   "metadata": {},
   "outputs": [
    {
     "data": {
      "text/plain": [
       "array([22., 25., 30., 27., 29., 30., 27., 33., 23., 22., 26., 25., 27.,\n",
       "       26., 23., 26., 28., 25., 31., 29., 33., 24., 29., 22., 61., 25.,\n",
       "       28., 23., 25., 26., 23., 30., 30., 24., 28., 28., 24., 25., 26.,\n",
       "       25., 23., 23., 25., 30., 31., 22., 26., 32., 25., 23., 22., 24.,\n",
       "       29., 27., 23., 23., 30., 34., 28., 25., 30., 23., 23., 26., 28.,\n",
       "       25., 25., 25., 22., 32., 33., 26., 61., 30., 23., 31., 26., 26.,\n",
       "       27., 26., 34., 32., 23., 23., 23., 26., 31., 23., 26., 29., 22.,\n",
       "       31., 25., 23., 27., 30., 31., 25., 27., 29., 23., 22., 26., 22.,\n",
       "       24., 36., 26., 26., 32., 25., 27., 27., 26., 24., 30., 30., 26.,\n",
       "       25., 25., 26., 23., 26., 41., 33., 32., 28., 29., 35., 34., 25.,\n",
       "       23., 27., 36., 23., 28., 22., 29., 27., 30., 31., 28., 25., 26.,\n",
       "       31., 23., 61., 30., 23., 33., 30., 29., 27., 23., 24., 31., 26.,\n",
       "       23., 25., 28., 41., 31., 25., 25., 28., 30., 28., 30., 26., 26.,\n",
       "       25., 23., 27., 31., 30., 33., 24., 25., 34., 30., 23., 27., 25.,\n",
       "       26., 23., 27., 23., 26., 28., 28., 24., 30., 34., 28., 31., 26.,\n",
       "       27., 28., 31., 31., 29., 26., 27., 25., 31., 33., 35., 30., 22.,\n",
       "       26., 22., 23., 22., 22., 26., 25., 61., 29., 23., 32., 25., 24.,\n",
       "       29., 28., 27., 26., 33., 29., 28., 28., 32., 25., 27., 27., 30.,\n",
       "       30., 41., 31., 28., 41., 27., 36., 30., 23., 26., 28., 26., 34.,\n",
       "       26., 30., 26., 24., 26., 25., 26., 26., 25., 35., 26., 27., 33.,\n",
       "       25., 33., 33., 31., 41., 27., 29., 28., 24., 29., 27., 27., 23.,\n",
       "       24., 27., 24., 23., 22., 28., 22., 26., 27., 25., 23., 25., 25.,\n",
       "       23., 23., 24., 26., 28., 23., 30., 27., 30., 26., 25., 25., 26.,\n",
       "       26., 61., 26., 28., 26., 30., 27., 26., 22., 22., 61., 27., 26.,\n",
       "       30., 27., 24., 24., 22., 41., 26., 25., 29., 28., 41., 23., 26.,\n",
       "       26., 24., 26., 22., 26., 27., 36., 35., 31., 22., 29., 26., 25.,\n",
       "       27., 23., 28., 36., 33., 23., 27., 22., 23., 24., 22., 31., 23.,\n",
       "       26., 26., 29., 29., 26., 61., 28., 25., 26., 28., 26., 24., 31.,\n",
       "       41., 61., 28., 31., 31., 29., 23., 28., 27., 26., 31., 31., 31.,\n",
       "       26., 36., 27., 29., 24., 36., 26., 27., 28., 27., 26., 25., 31.,\n",
       "       33., 24., 25., 28., 30., 26., 27., 29., 26., 24., 25., 25., 26.,\n",
       "       24., 26., 29., 25., 23., 34., 23., 23., 26., 26., 24., 28., 23.,\n",
       "       26., 31., 25., 61., 26., 41., 32., 26., 61., 28., 41., 25., 27.,\n",
       "       27., 41., 28., 26., 29., 33., 29., 26., 31., 27., 34., 28., 26.,\n",
       "       25., 23., 26., 36., 26., 26., 26., 26., 24., 23., 23., 26., 23.,\n",
       "       32., 34., 25., 26., 33., 26., 26., 28., 23., 23., 22., 28., 29.,\n",
       "       27., 24., 25., 29., 27., 26., 31., 27., 27., 28., 30., 27., 22.,\n",
       "       30., 31., 22., 27., 31., 28., 27., 23., 25., 26., 26., 23., 26.,\n",
       "       27., 23., 26., 23., 27., 31., 26., 33., 33., 26., 35., 30., 24.,\n",
       "       26., 28., 24., 34., 26., 23., 30., 27., 30., 22., 27., 29., 33.,\n",
       "       22., 23., 28., 30., 23., 25., 23., 28., 33., 26., 31., 26., 31.,\n",
       "       26., 26., 25., 26., 30., 27., 31., 28., 61., 23., 27., 31., 25.,\n",
       "       27., 26., 25., 23., 24., 61., 27., 32., 25., 33., 26., 24., 23.,\n",
       "       31., 23., 23., 26., 26., 23., 31., 26., 28., 26., 27., 22., 22.,\n",
       "       28., 24., 26., 30., 23., 26., 31., 36., 26., 26., 25., 23., 26.,\n",
       "       28., 26., 23., 30., 29., 27., 26., 26., 29., 26., 26., 27., 30.,\n",
       "       30., 26., 30., 25., 26., 23., 23., 25., 31., 28., 27., 30., 26.,\n",
       "       30., 25., 26., 31., 25., 41., 27., 23., 23., 27., 26., 25., 28.,\n",
       "       22., 25., 35., 35., 26., 28., 33., 23., 27., 24., 31., 23., 26.,\n",
       "       31., 23., 25., 33., 23., 31., 28., 31., 22., 24., 41., 24., 28.,\n",
       "       27., 22., 27., 26., 33., 27., 23., 61., 23., 34., 25., 25., 25.,\n",
       "       31., 31., 29., 27., 27., 31., 26., 23., 24., 26., 35., 23., 25.,\n",
       "       26., 30., 30., 31., 23., 26., 32., 31., 25., 26., 25., 28., 23.,\n",
       "       25., 27., 36., 29., 26., 28., 31., 29., 41., 24., 28., 28., 25.,\n",
       "       35., 30., 24., 61., 30., 23., 26., 25., 34., 24., 30., 23., 23.,\n",
       "       36., 22., 31., 26., 61., 26., 33., 22., 25., 28., 26., 24., 26.,\n",
       "       26., 23., 30., 31., 28., 23., 23., 24., 22., 25., 27., 23., 24.,\n",
       "       25., 32., 26.])"
      ]
     },
     "execution_count": 32,
     "metadata": {},
     "output_type": "execute_result"
    }
   ],
   "source": [
    "y_test_label2 = best_model_l2.predict(x_test_pca)\n",
    "y_test_label2.shape"
   ]
  },
  {
   "cell_type": "markdown",
   "metadata": {},
   "source": [
    "### **Label 3**"
   ]
  },
  {
   "cell_type": "code",
   "execution_count": 20,
   "metadata": {},
   "outputs": [
    {
     "data": {
      "text/plain": [
       "0"
      ]
     },
     "execution_count": 20,
     "metadata": {},
     "output_type": "execute_result"
    }
   ],
   "source": [
    "train['label_3'].isnull().sum()"
   ]
  },
  {
   "cell_type": "code",
   "execution_count": 21,
   "metadata": {},
   "outputs": [
    {
     "data": {
      "text/plain": [
       "0"
      ]
     },
     "execution_count": 21,
     "metadata": {},
     "output_type": "execute_result"
    }
   ],
   "source": [
    "valid['label_3'].isnull().sum()"
   ]
  },
  {
   "cell_type": "code",
   "execution_count": 22,
   "metadata": {},
   "outputs": [],
   "source": [
    "x_train = train.drop(['label_1', 'label_2', 'label_3', 'label_4'], axis=1)\n",
    "x_valid = valid.drop(['label_1', 'label_2', 'label_3', 'label_4'], axis=1)\n",
    "x_test = test.drop(['ID'], axis=1)\n",
    "\n",
    "y_train = train[['label_1', 'label_2', 'label_3', 'label_4']]\n",
    "y_valid = valid[['label_1', 'label_2', 'label_3', 'label_4']]"
   ]
  },
  {
   "cell_type": "code",
   "execution_count": 23,
   "metadata": {},
   "outputs": [
    {
     "data": {
      "image/png": "[encoded data removed]",
      "text/plain": [
       "<Figure size 640x480 with 1 Axes>"
      ]
     },
     "metadata": {},
     "output_type": "display_data"
    }
   ],
   "source": [
    "ax = sn.countplot(x=y_train['label_3'])\n",
    "\n",
    "for p in ax.patches:\n",
    "    ax.annotate(f'{p.get_height()}', (p.get_x() + p.get_width() / 2., p.get_height()),\n",
    "                ha='center', va='bottom', fontsize=9, color='black')\n",
    "\n",
    "plt.xlabel('Label 3')\n",
    "\n",
    "plt.show()"
   ]
  },
  {
   "cell_type": "code",
   "execution_count": 37,
   "metadata": {},
   "outputs": [],
   "source": [
    "scaler = StandardScaler()\n",
    "x_train_scaled = scaler.fit_transform(x_train)\n",
    "x_valid_scaled = scaler.transform(x_valid)\n",
    "x_test_scaled = scaler.transform(x_test)"
   ]
  },
  {
   "cell_type": "code",
   "execution_count": 38,
   "metadata": {},
   "outputs": [
    {
     "data": {
      "text/html": [
       "<div>\n",
       "<style scoped>\n",
       "    .dataframe tbody tr th:only-of-type {\n",
       "        vertical-align: middle;\n",
       "    }\n",
       "\n",
       "    .dataframe tbody tr th {\n",
       "        vertical-align: top;\n",
       "    }\n",
       "\n",
       "    .dataframe thead th {\n",
       "        text-align: right;\n",
       "    }\n",
       "</style>\n",
       "<table border=\"1\" class=\"dataframe\">\n",
       "  <thead>\n",
       "    <tr style=\"text-align: right;\">\n",
       "      <th></th>\n",
       "      <th>model</th>\n",
       "      <th>score</th>\n",
       "    </tr>\n",
       "  </thead>\n",
       "  <tbody>\n",
       "    <tr>\n",
       "      <th>0</th>\n",
       "      <td>svm</td>\n",
       "      <td>0.976262</td>\n",
       "    </tr>\n",
       "    <tr>\n",
       "      <th>1</th>\n",
       "      <td>random_forest</td>\n",
       "      <td>0.905434</td>\n",
       "    </tr>\n",
       "    <tr>\n",
       "      <th>2</th>\n",
       "      <td>logistic_regression</td>\n",
       "      <td>0.977910</td>\n",
       "    </tr>\n",
       "    <tr>\n",
       "      <th>3</th>\n",
       "      <td>knn</td>\n",
       "      <td>0.907889</td>\n",
       "    </tr>\n",
       "  </tbody>\n",
       "</table>\n",
       "</div>"
      ],
      "text/plain": [
       "                 model     score\n",
       "0                  svm  0.976262\n",
       "1        random_forest  0.905434\n",
       "2  logistic_regression  0.977910\n",
       "3                  knn  0.907889"
      ]
     },
     "execution_count": 38,
     "metadata": {},
     "output_type": "execute_result"
    }
   ],
   "source": [
    "# scores = []\n",
    "# for model_name, model in getModels().items():\n",
    "#     fold_scores = cross_val_score(model, x_train_scaled, y_train['label_3'], cv=3, scoring='accuracy', n_jobs = -1)\n",
    "#     scores.append({\n",
    "#         'model' : model_name,\n",
    "#         'score' : np.mean(fold_scores)\n",
    "#     })  \n",
    "\n",
    "# df_raw = pd.DataFrame(scores, columns = ['model', 'score'])\n",
    "# df_raw"
   ]
  },
  {
   "cell_type": "code",
   "execution_count": 39,
   "metadata": {},
   "outputs": [
    {
     "data": {
      "text/html": [
       "<div>\n",
       "<style scoped>\n",
       "    .dataframe tbody tr th:only-of-type {\n",
       "        vertical-align: middle;\n",
       "    }\n",
       "\n",
       "    .dataframe tbody tr th {\n",
       "        vertical-align: top;\n",
       "    }\n",
       "\n",
       "    .dataframe thead th {\n",
       "        text-align: right;\n",
       "    }\n",
       "</style>\n",
       "<table border=\"1\" class=\"dataframe\">\n",
       "  <thead>\n",
       "    <tr style=\"text-align: right;\">\n",
       "      <th></th>\n",
       "      <th>model</th>\n",
       "      <th>score</th>\n",
       "    </tr>\n",
       "  </thead>\n",
       "  <tbody>\n",
       "    <tr>\n",
       "      <th>0</th>\n",
       "      <td>svm</td>\n",
       "      <td>0.975525</td>\n",
       "    </tr>\n",
       "    <tr>\n",
       "      <th>1</th>\n",
       "      <td>random_forest</td>\n",
       "      <td>0.871108</td>\n",
       "    </tr>\n",
       "    <tr>\n",
       "      <th>2</th>\n",
       "      <td>logistic_regression</td>\n",
       "      <td>0.976157</td>\n",
       "    </tr>\n",
       "    <tr>\n",
       "      <th>3</th>\n",
       "      <td>knn</td>\n",
       "      <td>0.909432</td>\n",
       "    </tr>\n",
       "  </tbody>\n",
       "</table>\n",
       "</div>"
      ],
      "text/plain": [
       "                 model     score\n",
       "0                  svm  0.975525\n",
       "1        random_forest  0.871108\n",
       "2  logistic_regression  0.976157\n",
       "3                  knn  0.909432"
      ]
     },
     "execution_count": 39,
     "metadata": {},
     "output_type": "execute_result"
    }
   ],
   "source": [
    "pca = PCA(n_components=0.95, svd_solver = 'full')\n",
    "x_train_pca = pca.fit_transform(x_train_scaled)\n",
    "x_val_pca = pca.transform(x_valid_scaled)\n",
    "x_test_pca = pca.transform(x_test_scaled)\n",
    "\n",
    "scores_pca = []\n",
    "for model_name, model in getModels().items():\n",
    "    fold_scores = cross_val_score(model, x_train_pca, y_train['label_3'], cv=3, scoring='accuracy', n_jobs = -1)\n",
    "    scores_pca.append({\n",
    "        'model' : model_name,\n",
    "        'score' : np.mean(fold_scores)\n",
    "    })  \n",
    "\n",
    "df_pca = pd.DataFrame(scores_pca, columns = ['model', 'score'])\n",
    "df_pca"
   ]
  },
  {
   "cell_type": "code",
   "execution_count": 40,
   "metadata": {},
   "outputs": [
    {
     "data": {
      "text/plain": [
       "dict_items([('svm', {'model': SVC(gamma='auto'), 'params': {'C': [1, 10, 100], 'kernel': ['rbf', 'linear']}}), ('logistic_regression', {'model': LogisticRegression(solver='liblinear'), 'params': {'C': [1, 10, 100]}})])"
      ]
     },
     "execution_count": 40,
     "metadata": {},
     "output_type": "execute_result"
    }
   ],
   "source": [
    "model_data = {\n",
    "    'svm' : {\n",
    "        'model':svm.SVC(gamma = 'auto'),\n",
    "        'params' : {\n",
    "            'C': [1, 10, 100],\n",
    "            'kernel': ['rbf', 'linear']}\n",
    "    },\n",
    "    'logistic_regression' : {\n",
    "        'model':LogisticRegression(solver = 'liblinear', multi_class = 'auto'),\n",
    "        'params' : {\n",
    "            'C': [1, 10, 100]\n",
    "        }\n",
    "    }\n",
    "}\n",
    "\n",
    "model_data.items()"
   ]
  },
  {
   "cell_type": "code",
   "execution_count": 41,
   "metadata": {},
   "outputs": [],
   "source": [
    "accuracy_scores = []\n",
    "\n",
    "for model_name, model_info in model_data.items():\n",
    "  clf = RandomizedSearchCV(model_info['model'], model_info['params'], cv = 3, return_train_score = False, n_jobs = -1, n_iter = 3)\n",
    "  clf.fit(x_train_pca, y_train['label_3'])\n",
    "  accuracy_scores.append({\n",
    "      'model' : model_name,\n",
    "      'best_score' : clf.best_score_,\n",
    "      'best_params' : clf.best_params_\n",
    "  })"
   ]
  },
  {
   "cell_type": "code",
   "execution_count": 42,
   "metadata": {},
   "outputs": [
    {
     "data": {
      "text/html": [
       "<div>\n",
       "<style scoped>\n",
       "    .dataframe tbody tr th:only-of-type {\n",
       "        vertical-align: middle;\n",
       "    }\n",
       "\n",
       "    .dataframe tbody tr th {\n",
       "        vertical-align: top;\n",
       "    }\n",
       "\n",
       "    .dataframe thead th {\n",
       "        text-align: right;\n",
       "    }\n",
       "</style>\n",
       "<table border=\"1\" class=\"dataframe\">\n",
       "  <thead>\n",
       "    <tr style=\"text-align: right;\">\n",
       "      <th></th>\n",
       "      <th>model</th>\n",
       "      <th>best_score</th>\n",
       "      <th>best_params</th>\n",
       "    </tr>\n",
       "  </thead>\n",
       "  <tbody>\n",
       "    <tr>\n",
       "      <th>0</th>\n",
       "      <td>svm</td>\n",
       "      <td>0.980049</td>\n",
       "      <td>{'C': 100, 'kernel': 'rbf'}</td>\n",
       "    </tr>\n",
       "    <tr>\n",
       "      <th>1</th>\n",
       "      <td>logistic_regression</td>\n",
       "      <td>0.977910</td>\n",
       "      <td>{'C': 1}</td>\n",
       "    </tr>\n",
       "  </tbody>\n",
       "</table>\n",
       "</div>"
      ],
      "text/plain": [
       "                 model  best_score                  best_params\n",
       "0                  svm    0.980049  {'C': 100, 'kernel': 'rbf'}\n",
       "1  logistic_regression    0.977910                     {'C': 1}"
      ]
     },
     "execution_count": 42,
     "metadata": {},
     "output_type": "execute_result"
    }
   ],
   "source": [
    "df_hyp_tuning = pd.DataFrame(accuracy_scores, columns = ['model', 'best_score', 'best_params'])\n",
    "df_hyp_tuning"
   ]
  },
  {
   "cell_type": "code",
   "execution_count": 43,
   "metadata": {},
   "outputs": [
    {
     "data": {
      "text/plain": [
       "0.996"
      ]
     },
     "execution_count": 43,
     "metadata": {},
     "output_type": "execute_result"
    }
   ],
   "source": [
    "best_model_l3 = svm.SVC(C = 100, kernel = 'rbf')\n",
    "best_model_l3.fit(x_train_pca, y_train['label_3'])\n",
    "\n",
    "#cross validation for best model using validation set\n",
    "fold_scores_l3 = cross_val_score(best_model_l3, x_val_pca, y_valid['label_3'], cv=3, scoring='accuracy', n_jobs = -1)\n",
    "np.mean(fold_scores_l3)"
   ]
  },
  {
   "cell_type": "code",
   "execution_count": 44,
   "metadata": {},
   "outputs": [
    {
     "data": {
      "text/plain": [
       "array([0, 1, 1, 1, 0, 1, 1, 1, 1, 0, 1, 1, 1, 1, 1, 1, 1, 1, 0, 1, 1, 1,\n",
       "       1, 0, 1, 1, 0, 1, 1, 1, 1, 1, 1, 0, 1, 1, 1, 1, 1, 1, 1, 0, 1, 1,\n",
       "       0, 1, 1, 1, 1, 1, 1, 0, 1, 1, 1, 1, 1, 0, 0, 1, 1, 0, 1, 1, 1, 1,\n",
       "       1, 1, 0, 1, 1, 0, 1, 1, 1, 0, 1, 1, 0, 0, 0, 1, 1, 1, 1, 1, 1, 1,\n",
       "       0, 1, 0, 0, 1, 1, 1, 1, 1, 1, 1, 1, 1, 0, 1, 0, 1, 1, 0, 1, 1, 1,\n",
       "       0, 1, 1, 1, 1, 1, 1, 1, 1, 1, 1, 1, 1, 1, 1, 1, 1, 1, 0, 1, 0, 1,\n",
       "       1, 1, 0, 1, 1, 0, 1, 1, 1, 1, 1, 1, 1, 1, 1, 1, 1, 1, 1, 1, 0, 1,\n",
       "       1, 1, 1, 1, 1, 1, 1, 1, 1, 0, 1, 1, 1, 1, 1, 1, 1, 0, 1, 1, 1, 1,\n",
       "       1, 0, 1, 1, 1, 1, 1, 1, 1, 1, 1, 0, 1, 1, 1, 0, 1, 1, 1, 1, 0, 1,\n",
       "       1, 0, 1, 0, 1, 1, 1, 1, 1, 1, 1, 0, 1, 0, 0, 1, 1, 1, 1, 0, 1, 1,\n",
       "       1, 1, 1, 1, 1, 1, 0, 1, 1, 1, 1, 1, 1, 1, 1, 1, 0, 0, 1, 0, 1, 1,\n",
       "       1, 1, 1, 1, 0, 1, 1, 1, 1, 1, 1, 1, 1, 1, 1, 1, 0, 1, 1, 1, 1, 0,\n",
       "       1, 1, 0, 1, 1, 0, 1, 1, 0, 1, 0, 1, 0, 0, 0, 0, 1, 1, 1, 1, 1, 1,\n",
       "       1, 1, 0, 1, 1, 1, 1, 1, 1, 1, 1, 1, 1, 1, 1, 1, 1, 1, 1, 1, 1, 1,\n",
       "       0, 1, 1, 1, 1, 0, 0, 1, 0, 1, 1, 1, 1, 0, 1, 1, 1, 1, 0, 1, 0, 1,\n",
       "       1, 1, 1, 1, 0, 1, 1, 1, 1, 1, 1, 1, 1, 0, 1, 1, 1, 1, 1, 1, 1, 1,\n",
       "       0, 1, 1, 1, 1, 1, 1, 0, 1, 1, 0, 1, 1, 1, 1, 0, 1, 1, 1, 0, 1, 1,\n",
       "       1, 0, 1, 1, 1, 0, 0, 1, 1, 1, 0, 1, 1, 1, 1, 0, 1, 1, 1, 1, 1, 1,\n",
       "       1, 1, 1, 1, 1, 1, 1, 1, 1, 0, 1, 1, 0, 1, 1, 1, 0, 1, 0, 0, 1, 1,\n",
       "       1, 1, 1, 1, 1, 1, 1, 1, 1, 1, 1, 1, 1, 1, 1, 1, 1, 1, 1, 0, 0, 0,\n",
       "       1, 1, 1, 1, 1, 1, 1, 1, 1, 1, 1, 1, 1, 1, 0, 1, 0, 1, 1, 1, 1, 1,\n",
       "       1, 1, 1, 0, 1, 0, 0, 1, 1, 1, 0, 0, 1, 1, 1, 1, 1, 0, 1, 1, 0, 0,\n",
       "       1, 0, 1, 1, 1, 1, 1, 1, 1, 1, 1, 1, 1, 1, 1, 1, 1, 1, 1, 1, 1, 1,\n",
       "       0, 0, 1, 0, 0, 1, 1, 1, 1, 1, 0, 1, 1, 1, 0, 0, 1, 1, 1, 1, 0, 1,\n",
       "       1, 1, 1, 1, 1, 1, 1, 1, 1, 1, 1, 0, 0, 1, 0, 0, 1, 1, 1, 1, 1, 1,\n",
       "       0, 1, 1, 1, 1, 1, 1, 1, 1, 1, 1, 1, 1, 1, 1, 1, 1, 1, 1, 1, 0, 0,\n",
       "       1, 1, 1, 1, 1, 1, 1, 1, 0, 1, 1, 0, 1, 1, 1, 1, 1, 1, 1, 1, 1, 1,\n",
       "       1, 1, 0, 1, 1, 1, 1, 1, 1, 1, 1, 1, 0, 0, 0, 1, 1, 1, 1, 1, 0, 1,\n",
       "       1, 1, 1, 1, 0, 1, 1, 1, 0, 1, 0, 1, 0, 1, 1, 1, 1, 1, 1, 1, 1, 1,\n",
       "       1, 1, 1, 1, 1, 1, 1, 1, 1, 1, 1, 1, 1, 1, 0, 1, 1, 1, 1, 1, 1, 0,\n",
       "       1, 1, 1, 0, 0, 1, 1, 1, 0, 1, 1, 1, 1, 1, 1, 1, 1, 1, 1, 1, 1, 1,\n",
       "       1, 0, 1, 1, 1, 1, 1, 1, 0, 1, 1, 1, 1, 0, 1, 1, 1, 1, 1, 1, 1, 1,\n",
       "       1, 1, 1, 1, 1, 1, 0, 1, 1, 0, 1, 1, 0, 0, 1, 1, 1, 1, 1, 1, 1, 1,\n",
       "       1, 1, 1, 1, 1, 0, 0, 1, 1, 0, 0, 1, 1, 1, 1, 1, 1, 1])"
      ]
     },
     "execution_count": 44,
     "metadata": {},
     "output_type": "execute_result"
    }
   ],
   "source": [
    "y_test_label3 = best_model_l3.predict(x_test_scaled)\n",
    "y_test_label3.shape"
   ]
  },
  {
   "cell_type": "markdown",
   "metadata": {},
   "source": [
    "### **Label 4**"
   ]
  },
  {
   "cell_type": "code",
   "execution_count": 24,
   "metadata": {},
   "outputs": [
    {
     "data": {
      "text/plain": [
       "0"
      ]
     },
     "execution_count": 24,
     "metadata": {},
     "output_type": "execute_result"
    }
   ],
   "source": [
    "train['label_4'].isnull().sum()"
   ]
  },
  {
   "cell_type": "code",
   "execution_count": 25,
   "metadata": {},
   "outputs": [
    {
     "data": {
      "text/plain": [
       "0"
      ]
     },
     "execution_count": 25,
     "metadata": {},
     "output_type": "execute_result"
    }
   ],
   "source": [
    "valid['label_4'].isnull().sum()"
   ]
  },
  {
   "cell_type": "code",
   "execution_count": 26,
   "metadata": {},
   "outputs": [],
   "source": [
    "x_train = train.drop(['label_1', 'label_2', 'label_3', 'label_4'], axis=1)\n",
    "x_valid = valid.drop(['label_1', 'label_2', 'label_3', 'label_4'], axis=1)\n",
    "x_test = test.drop(['ID'], axis=1)\n",
    "\n",
    "y_train = train[['label_1', 'label_2', 'label_3', 'label_4']]\n",
    "y_valid = valid[['label_1', 'label_2', 'label_3', 'label_4']]"
   ]
  },
  {
   "cell_type": "code",
   "execution_count": 27,
   "metadata": {},
   "outputs": [
    {
     "data": {
      "image/png": "[encoded data removed]",
      "text/plain": [
       "<Figure size 1000x600 with 1 Axes>"
      ]
     },
     "metadata": {},
     "output_type": "display_data"
    }
   ],
   "source": [
    "label4_value_counts = y_train['label_4'].value_counts()\n",
    "\n",
    "plt.figure(figsize=(10, 6))\n",
    "bars = plt.bar(label4_value_counts.index, label4_value_counts.values)\n",
    "\n",
    "\n",
    "plt.xlabel('Label 4')\n",
    "plt.ylabel('Count')\n",
    "plt.title('Label 4 values distribution')\n",
    "\n",
    "for bar, count in zip(bars, label4_value_counts.values):\n",
    "    plt.annotate(str(count), xy=(bar.get_x() + bar.get_width() / 2, bar.get_height()), \n",
    "                 xytext=(0, 3), textcoords='offset points', ha='center', va='bottom')\n",
    "\n",
    "\n",
    "plt.tight_layout() \n",
    "plt.show()"
   ]
  },
  {
   "cell_type": "code",
   "execution_count": 49,
   "metadata": {},
   "outputs": [],
   "source": [
    "sampler = RandomOverSampler(random_state=0)\n",
    "x_train_resampled, y_train_resampled = sampler.fit_resample(x_train, y_train['label_4'])"
   ]
  },
  {
   "cell_type": "code",
   "execution_count": 50,
   "metadata": {},
   "outputs": [],
   "source": [
    "label4_value_counts = y_train_resampled.value_counts()\n",
    "\n",
    "plt.figure(figsize=(10, 6))\n",
    "bars = plt.bar(label4_value_counts.index, label4_value_counts.values)\n",
    "\n",
    "\n",
    "plt.xlabel('Label 4')\n",
    "plt.ylabel('Count')\n",
    "plt.title('Label 4 values distribution after OverSampling')\n",
    "\n",
    "for bar, count in zip(bars, label4_value_counts.values):\n",
    "    plt.annotate(str(count), xy=(bar.get_x() + bar.get_width() / 2, bar.get_height()), \n",
    "                 xytext=(0, 3), textcoords='offset points', ha='center', va='bottom')\n",
    "\n",
    "\n",
    "plt.tight_layout() \n",
    "plt.show()"
   ]
  },
  {
   "cell_type": "code",
   "execution_count": 51,
   "metadata": {},
   "outputs": [],
   "source": [
    "scaler = StandardScaler()\n",
    "x_train_scaled = scaler.fit_transform(x_train_resampled)\n",
    "x_valid_scaled = scaler.transform(x_valid)\n",
    "x_test_scaled = scaler.transform(x_test)"
   ]
  },
  {
   "cell_type": "code",
   "execution_count": 53,
   "metadata": {},
   "outputs": [
    {
     "data": {
      "text/html": [
       "<div>\n",
       "<style scoped>\n",
       "    .dataframe tbody tr th:only-of-type {\n",
       "        vertical-align: middle;\n",
       "    }\n",
       "\n",
       "    .dataframe tbody tr th {\n",
       "        vertical-align: top;\n",
       "    }\n",
       "\n",
       "    .dataframe thead th {\n",
       "        text-align: right;\n",
       "    }\n",
       "</style>\n",
       "<table border=\"1\" class=\"dataframe\">\n",
       "  <thead>\n",
       "    <tr style=\"text-align: right;\">\n",
       "      <th></th>\n",
       "      <th>model</th>\n",
       "      <th>score</th>\n",
       "    </tr>\n",
       "  </thead>\n",
       "  <tbody>\n",
       "    <tr>\n",
       "      <th>0</th>\n",
       "      <td>svm</td>\n",
       "      <td>0.957333</td>\n",
       "    </tr>\n",
       "    <tr>\n",
       "      <th>1</th>\n",
       "      <td>random_forest</td>\n",
       "      <td>0.764000</td>\n",
       "    </tr>\n",
       "    <tr>\n",
       "      <th>2</th>\n",
       "      <td>logistic_regression</td>\n",
       "      <td>0.952000</td>\n",
       "    </tr>\n",
       "    <tr>\n",
       "      <th>3</th>\n",
       "      <td>knn</td>\n",
       "      <td>0.930667</td>\n",
       "    </tr>\n",
       "  </tbody>\n",
       "</table>\n",
       "</div>"
      ],
      "text/plain": [
       "                 model     score\n",
       "0                  svm  0.957333\n",
       "1        random_forest  0.764000\n",
       "2  logistic_regression  0.952000\n",
       "3                  knn  0.930667"
      ]
     },
     "execution_count": 53,
     "metadata": {},
     "output_type": "execute_result"
    }
   ],
   "source": [
    "\n",
    "# scores = []\n",
    "# for model_name, model in getModels().items():\n",
    "#     model.fit(x_train_scaled, y_train_resampled['label_4'])\n",
    "#     pred = model.predict(x_valid_scaled)\n",
    "    \n",
    "#     scores.append({\n",
    "#         'model' : model_name,\n",
    "#         'score' : accuracy_score(y_valid['label_4'], pred)\n",
    "#     })  \n",
    "\n",
    "# df_raw = pd.DataFrame(scores, columns = ['model', 'score'])\n",
    "# df_raw"
   ]
  },
  {
   "cell_type": "code",
   "execution_count": 55,
   "metadata": {},
   "outputs": [
    {
     "data": {
      "text/html": [
       "<div>\n",
       "<style scoped>\n",
       "    .dataframe tbody tr th:only-of-type {\n",
       "        vertical-align: middle;\n",
       "    }\n",
       "\n",
       "    .dataframe tbody tr th {\n",
       "        vertical-align: top;\n",
       "    }\n",
       "\n",
       "    .dataframe thead th {\n",
       "        text-align: right;\n",
       "    }\n",
       "</style>\n",
       "<table border=\"1\" class=\"dataframe\">\n",
       "  <thead>\n",
       "    <tr style=\"text-align: right;\">\n",
       "      <th></th>\n",
       "      <th>model</th>\n",
       "      <th>score</th>\n",
       "    </tr>\n",
       "  </thead>\n",
       "  <tbody>\n",
       "    <tr>\n",
       "      <th>0</th>\n",
       "      <td>svm</td>\n",
       "      <td>0.956000</td>\n",
       "    </tr>\n",
       "    <tr>\n",
       "      <th>1</th>\n",
       "      <td>random_forest</td>\n",
       "      <td>0.732000</td>\n",
       "    </tr>\n",
       "    <tr>\n",
       "      <th>2</th>\n",
       "      <td>logistic_regression</td>\n",
       "      <td>0.918667</td>\n",
       "    </tr>\n",
       "    <tr>\n",
       "      <th>3</th>\n",
       "      <td>knn</td>\n",
       "      <td>0.930667</td>\n",
       "    </tr>\n",
       "  </tbody>\n",
       "</table>\n",
       "</div>"
      ],
      "text/plain": [
       "                 model     score\n",
       "0                  svm  0.956000\n",
       "1        random_forest  0.732000\n",
       "2  logistic_regression  0.918667\n",
       "3                  knn  0.930667"
      ]
     },
     "execution_count": 55,
     "metadata": {},
     "output_type": "execute_result"
    }
   ],
   "source": [
    "pca = PCA(n_components=0.95, svd_solver = 'full')\n",
    "x_train_pca = pca.fit_transform(x_train_scaled)\n",
    "x_val_pca = pca.transform(x_valid_scaled)\n",
    "x_test_pca = pca.transform(x_test_scaled)\n",
    "\n",
    "scores_pca = []\n",
    "for model_name, model in getModels().items():    \n",
    "    model.fit(x_train_pca, y_train_resampled['label_4'])\n",
    "    pred = model.predict(x_val_pca)\n",
    "    \n",
    "    scores_pca.append({\n",
    "        'model' : model_name,\n",
    "        'score' : accuracy_score(y_valid['label_4'], pred)\n",
    "    })  \n",
    "\n",
    "df_pca = pd.DataFrame(scores_pca, columns = ['model', 'score'])\n",
    "df_pca"
   ]
  },
  {
   "cell_type": "code",
   "execution_count": 56,
   "metadata": {},
   "outputs": [
    {
     "data": {
      "text/plain": [
       "dict_items([('svm', {'model': SVC(gamma='auto'), 'params': {'C': [1, 10, 100], 'kernel': ['rbf', 'linear']}}), ('logistic_regression', {'model': LogisticRegression(solver='liblinear'), 'params': {'C': [1, 10, 100]}}), ('knn', {'model': KNeighborsClassifier(), 'params': {'n_neighbors': [1, 2, 3, 4], 'p': [1, 2]}})])"
      ]
     },
     "execution_count": 56,
     "metadata": {},
     "output_type": "execute_result"
    }
   ],
   "source": [
    "model_data = {\n",
    "    'svm' : {\n",
    "        'model':svm.SVC(gamma = 'auto'),\n",
    "        'params' : {\n",
    "            'C': [1, 10, 100],\n",
    "            'kernel': ['rbf', 'linear']}\n",
    "    },\n",
    "    'logistic_regression' : {\n",
    "        'model':LogisticRegression(solver = 'liblinear', multi_class = 'auto'),\n",
    "        'params' : {\n",
    "            'C': [1, 10, 100]\n",
    "        }\n",
    "    },\n",
    "    'knn' : {\n",
    "        'model' : KNeighborsClassifier(),\n",
    "        'params' : {\n",
    "            'n_neighbors' : list(range(1,5)),\n",
    "            'p' : [1,2]\n",
    "        }\n",
    "    }\n",
    "}\n",
    "\n",
    "model_data.items()"
   ]
  },
  {
   "cell_type": "code",
   "execution_count": 60,
   "metadata": {},
   "outputs": [],
   "source": [
    "accuracy_scores = []\n",
    "\n",
    "for model_name, model_info in model_data.items():\n",
    "  clf = RandomizedSearchCV(model_info['model'], model_info['params'], cv = 3, return_train_score = False, n_jobs = -1, n_iter = 5)\n",
    "  clf.fit(x_train_pca, y_train_resampled['label_4'])\n",
    "  accuracy_scores.append({\n",
    "      'model' : model_name,\n",
    "      'best_score' : clf.best_score_,\n",
    "      'best_params' : clf.best_params_\n",
    "  })"
   ]
  },
  {
   "cell_type": "code",
   "execution_count": 59,
   "metadata": {},
   "outputs": [
    {
     "data": {
      "text/html": [
       "<div>\n",
       "<style scoped>\n",
       "    .dataframe tbody tr th:only-of-type {\n",
       "        vertical-align: middle;\n",
       "    }\n",
       "\n",
       "    .dataframe tbody tr th {\n",
       "        vertical-align: top;\n",
       "    }\n",
       "\n",
       "    .dataframe thead th {\n",
       "        text-align: right;\n",
       "    }\n",
       "</style>\n",
       "<table border=\"1\" class=\"dataframe\">\n",
       "  <thead>\n",
       "    <tr style=\"text-align: right;\">\n",
       "      <th></th>\n",
       "      <th>model</th>\n",
       "      <th>best_score</th>\n",
       "      <th>best_params</th>\n",
       "    </tr>\n",
       "  </thead>\n",
       "  <tbody>\n",
       "    <tr>\n",
       "      <th>0</th>\n",
       "      <td>svm</td>\n",
       "      <td>0.850210</td>\n",
       "      <td>{'C': 1, 'kernel': 'linear'}</td>\n",
       "    </tr>\n",
       "    <tr>\n",
       "      <th>1</th>\n",
       "      <td>logistic_regression</td>\n",
       "      <td>0.845477</td>\n",
       "      <td>{'C': 100}</td>\n",
       "    </tr>\n",
       "    <tr>\n",
       "      <th>2</th>\n",
       "      <td>knn</td>\n",
       "      <td>0.811044</td>\n",
       "      <td>{'n_neighbors': 4, 'p': 1}</td>\n",
       "    </tr>\n",
       "  </tbody>\n",
       "</table>\n",
       "</div>"
      ],
      "text/plain": [
       "                 model  best_score                   best_params\n",
       "0                  svm    0.850210  {'C': 1, 'kernel': 'linear'}\n",
       "1  logistic_regression    0.845477                    {'C': 100}\n",
       "2                  knn    0.811044    {'n_neighbors': 4, 'p': 1}"
      ]
     },
     "execution_count": 59,
     "metadata": {},
     "output_type": "execute_result"
    }
   ],
   "source": [
    "df_hyp_tuning = pd.DataFrame(accuracy_scores, columns = ['model', 'best_score', 'best_params'])\n",
    "df_hyp_tuning"
   ]
  },
  {
   "cell_type": "code",
   "execution_count": 66,
   "metadata": {},
   "outputs": [
    {
     "data": {
      "text/plain": [
       "0.9493333333333334"
      ]
     },
     "execution_count": 66,
     "metadata": {},
     "output_type": "execute_result"
    }
   ],
   "source": [
    "best_model_l4 = svm.SVC(C=1, kernel='linear')\n",
    "best_model_l4.fit(x_train_pca, y_train_resampled['label_4'])\n",
    "\n",
    "#cross validation for best model using validation set\n",
    "fold_scores_l4 = cross_val_score(best_model_l4, x_val_pca, y_valid['label_3'], cv=3, scoring='accuracy', n_jobs = -1)\n",
    "np.mean(fold_scores_l4)"
   ]
  },
  {
   "cell_type": "code",
   "execution_count": 67,
   "metadata": {},
   "outputs": [
    {
     "data": {
      "text/plain": [
       "array([ 2,  8,  6,  6,  6,  6,  6,  6,  6,  2,  6,  6,  6,  6,  6,  6,  6,\n",
       "        6,  6,  0,  6,  2,  6,  6,  6,  6,  6,  6,  6,  6,  6,  6,  6,  6,\n",
       "        6,  6,  6,  6,  6,  8,  4,  3,  6,  6,  6,  1,  6, 12,  6,  0,  1,\n",
       "        6,  6,  7,  0,  6,  6,  5,  6,  6,  6,  3,  6,  2,  6,  8,  6,  6,\n",
       "        6, 12,  6,  6,  6,  6,  6,  6,  6,  1,  6,  6,  5, 12,  6,  6,  6,\n",
       "        6, 12,  4,  6,  7,  6,  6,  6,  6,  6,  6,  6,  6,  6,  0,  4,  2,\n",
       "        6,  6,  6,  6,  6,  6, 12,  6,  6,  7,  6,  6,  6,  6,  6,  6,  0,\n",
       "        6,  4,  6,  6,  6, 12,  9,  6, 11,  5,  6,  6,  6,  6,  6,  6,  1,\n",
       "        0,  6,  6,  7,  6,  6,  6,  7,  0,  6,  6,  6,  6,  6,  0,  7,  3,\n",
       "        6,  6, 10,  4,  6,  9,  6,  6,  8,  6,  6,  6,  6,  6,  6,  6,  6,\n",
       "        6,  0, 12,  6,  6,  6,  6,  5, 10,  6,  6,  8,  6,  4,  7,  6,  6,\n",
       "        6,  6,  2,  6,  5,  6,  7,  6,  6,  6,  6,  6,  6,  6, 13,  8,  6,\n",
       "        6, 11,  6,  1,  6,  2,  6,  6,  6,  6,  6,  6,  6,  3, 12,  6,  6,\n",
       "        6,  6,  7,  6,  6,  6,  9,  6, 12,  8,  6,  6, 10,  6,  6,  6, 12,\n",
       "        6,  6,  6,  6,  6,  6,  9,  6,  6,  6,  6,  6,  6,  6,  6,  6,  6,\n",
       "        6, 11,  6,  6,  6,  6,  6,  6,  6,  6,  6,  2,  6,  6,  6,  6,  6,\n",
       "        3,  6, 13,  6,  3,  2,  6,  6,  6,  6,  6,  0,  6,  6,  4,  6,  6,\n",
       "        6,  6,  0, 10,  7, 10,  6,  6,  6, 12,  6,  6,  6,  9,  6,  6,  6,\n",
       "        6,  1,  6,  6,  6,  6,  6,  6,  6,  6,  2,  6,  6,  6,  6,  6,  6,\n",
       "        0,  6,  6,  6,  6,  2,  6,  6,  6, 11,  6,  6,  6,  6,  8,  6,  6,\n",
       "        6,  6,  6,  3,  7,  6, 10,  2,  1,  7,  6,  6,  6,  6,  0,  6,  6,\n",
       "        0,  6,  6,  6,  6,  6,  7,  6,  6,  9,  6,  6,  6,  6,  6,  6,  6,\n",
       "        6,  6,  6,  6,  6, 13,  6,  2,  6,  6, 13,  6,  6,  6,  8,  6,  6,\n",
       "        6,  6,  6, 10,  9,  6,  6,  6,  6,  6,  6,  6,  2,  6,  6,  6,  6,\n",
       "        5,  6,  6,  6, 13,  0,  6,  3,  6,  7,  2,  6,  2,  6, 12,  6,  6,\n",
       "        6,  6,  8,  6,  6,  7,  9,  6,  6,  6,  6,  6,  6, 13,  5,  6,  6,\n",
       "        6,  6,  6,  6,  0,  6,  6,  6,  6,  6, 12,  6,  3, 12,  5,  6,  6,\n",
       "        6,  6,  6,  6,  6,  6,  6,  6,  6,  6,  6,  6,  0,  6,  6, 12,  6,\n",
       "        6,  7, 10,  6,  1,  6,  6,  6,  6,  6,  6,  7,  6,  6, 12,  6,  6,\n",
       "        6,  6,  6,  0,  6,  6,  7,  6,  6,  6,  6, 11,  6,  6,  6,  6,  6,\n",
       "        5,  6,  0,  6,  7, 10,  2,  6,  0, 12,  6,  3,  6,  6,  6,  8,  3,\n",
       "        6,  6,  6,  7,  6,  7,  6,  6,  8,  6,  6,  6,  6,  6,  6,  6,  6,\n",
       "        6,  6,  7,  6,  6,  0,  6,  0,  7, 12,  6,  6,  6,  6,  0,  6,  6,\n",
       "        6,  6,  6,  6,  7,  6,  6,  2,  6,  2,  6,  9,  2,  6,  6,  6,  6,\n",
       "        7,  6,  6,  6,  6,  3,  6,  6,  6,  6,  6,  0, 12,  6,  2,  6,  9,\n",
       "        6,  2, 10,  6,  2,  6,  6,  6, 12,  4,  8,  6,  5,  6,  6,  6,  6,\n",
       "        6,  0,  6,  8,  6,  6,  0,  0,  6,  6,  6,  6,  2, 12,  6, 11,  6,\n",
       "        9,  6,  4,  7,  6,  4,  6,  6, 12,  6,  6,  6,  0,  7,  9,  6,  1,\n",
       "        6,  6,  6,  6,  6,  1, 13,  6,  6,  7,  6,  6,  6,  5,  6,  6,  6,\n",
       "        6,  6,  6,  6,  7,  6,  6,  0,  6,  6, 11,  0,  6,  6,  2,  6,  7,\n",
       "        4,  2, 12,  6,  6,  6,  6,  6,  6,  6, 13,  6,  0,  6,  6,  6,  6,\n",
       "        6,  6,  6,  9,  6, 11,  6,  6,  6,  6,  6,  6,  2,  5,  6,  6,  3,\n",
       "        4,  6,  6,  6,  6,  2,  6,  6, 12,  6,  6,  6,  6,  6,  6,  6,  6,\n",
       "        6,  6,  6,  6,  6,  2,  4,  6,  6,  2,  6, 12,  6])"
      ]
     },
     "execution_count": 67,
     "metadata": {},
     "output_type": "execute_result"
    }
   ],
   "source": [
    "y_test_label4 = best_model_l4.predict(x_test_pca)\n",
    "y_test_label4"
   ]
  },
  {
   "cell_type": "code",
   "execution_count": 68,
   "metadata": {},
   "outputs": [],
   "source": [
    "final_df = test[['ID']]\n",
    "final_df['label_1'] = y_test_label1\n",
    "final_df['label_2'] = y_test_label2\n",
    "final_df['label_3'] = y_test_label3\n",
    "final_df['label_4'] = y_test_label4"
   ]
  },
  {
   "cell_type": "code",
   "execution_count": 69,
   "metadata": {},
   "outputs": [],
   "source": [
    "final_df.to_csv('Outputs/Layer-9/solutions_layer9.csv', index=False)"
   ]
  },
  {
   "cell_type": "code",
   "execution_count": null,
   "metadata": {},
   "outputs": [],
   "source": []
  }
 ],
 "metadata": {
  "colab": {
   "provenance": []
  },
  "kernelspec": {
   "display_name": "Python 3 (ipykernel)",
   "language": "python",
   "name": "python3"
  },
  "language_info": {
   "codemirror_mode": {
    "name": "ipython",
    "version": 3
   },
   "file_extension": ".py",
   "mimetype": "text/x-python",
   "name": "python",
   "nbconvert_exporter": "python",
   "pygments_lexer": "ipython3",
   "version": "3.9.18"
  }
 },
 "nbformat": 4,
 "nbformat_minor": 4
}
