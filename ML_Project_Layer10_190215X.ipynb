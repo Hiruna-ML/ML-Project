{
 "cells": [
  {
   "cell_type": "code",
   "execution_count": 2,
   "metadata": {},
   "outputs": [
    {
     "name": "stdout",
     "output_type": "stream",
     "text": [
      "Requirement already satisfied: matplotlib in /Users/hiruna/mambaforge/lib/python3.10/site-packages (3.8.0)\n",
      "Requirement already satisfied: contourpy>=1.0.1 in /Users/hiruna/mambaforge/lib/python3.10/site-packages (from matplotlib) (1.1.1)\n",
      "Requirement already satisfied: cycler>=0.10 in /Users/hiruna/mambaforge/lib/python3.10/site-packages (from matplotlib) (0.11.0)\n",
      "Requirement already satisfied: fonttools>=4.22.0 in /Users/hiruna/mambaforge/lib/python3.10/site-packages (from matplotlib) (4.42.1)\n",
      "Requirement already satisfied: kiwisolver>=1.0.1 in /Users/hiruna/mambaforge/lib/python3.10/site-packages (from matplotlib) (1.4.5)\n",
      "Requirement already satisfied: numpy<2,>=1.21 in /Users/hiruna/mambaforge/lib/python3.10/site-packages (from matplotlib) (1.26.0)\n",
      "Requirement already satisfied: packaging>=20.0 in /Users/hiruna/mambaforge/lib/python3.10/site-packages (from matplotlib) (23.1)\n",
      "Requirement already satisfied: pillow>=6.2.0 in /Users/hiruna/mambaforge/lib/python3.10/site-packages (from matplotlib) (10.0.1)\n",
      "Requirement already satisfied: pyparsing>=2.3.1 in /Users/hiruna/mambaforge/lib/python3.10/site-packages (from matplotlib) (3.1.1)\n",
      "Requirement already satisfied: python-dateutil>=2.7 in /Users/hiruna/mambaforge/lib/python3.10/site-packages (from matplotlib) (2.8.2)\n",
      "Requirement already satisfied: six>=1.5 in /Users/hiruna/mambaforge/lib/python3.10/site-packages (from python-dateutil>=2.7->matplotlib) (1.16.0)\n",
      "Requirement already satisfied: seaborn in /Users/hiruna/mambaforge/lib/python3.10/site-packages (0.12.2)\n",
      "Requirement already satisfied: numpy!=1.24.0,>=1.17 in /Users/hiruna/mambaforge/lib/python3.10/site-packages (from seaborn) (1.26.0)\n",
      "Requirement already satisfied: pandas>=0.25 in /Users/hiruna/mambaforge/lib/python3.10/site-packages (from seaborn) (2.1.1)\n",
      "Requirement already satisfied: matplotlib!=3.6.1,>=3.1 in /Users/hiruna/mambaforge/lib/python3.10/site-packages (from seaborn) (3.8.0)\n",
      "Requirement already satisfied: contourpy>=1.0.1 in /Users/hiruna/mambaforge/lib/python3.10/site-packages (from matplotlib!=3.6.1,>=3.1->seaborn) (1.1.1)\n",
      "Requirement already satisfied: cycler>=0.10 in /Users/hiruna/mambaforge/lib/python3.10/site-packages (from matplotlib!=3.6.1,>=3.1->seaborn) (0.11.0)\n",
      "Requirement already satisfied: fonttools>=4.22.0 in /Users/hiruna/mambaforge/lib/python3.10/site-packages (from matplotlib!=3.6.1,>=3.1->seaborn) (4.42.1)\n",
      "Requirement already satisfied: kiwisolver>=1.0.1 in /Users/hiruna/mambaforge/lib/python3.10/site-packages (from matplotlib!=3.6.1,>=3.1->seaborn) (1.4.5)\n",
      "Requirement already satisfied: packaging>=20.0 in /Users/hiruna/mambaforge/lib/python3.10/site-packages (from matplotlib!=3.6.1,>=3.1->seaborn) (23.1)\n",
      "Requirement already satisfied: pillow>=6.2.0 in /Users/hiruna/mambaforge/lib/python3.10/site-packages (from matplotlib!=3.6.1,>=3.1->seaborn) (10.0.1)\n",
      "Requirement already satisfied: pyparsing>=2.3.1 in /Users/hiruna/mambaforge/lib/python3.10/site-packages (from matplotlib!=3.6.1,>=3.1->seaborn) (3.1.1)\n",
      "Requirement already satisfied: python-dateutil>=2.7 in /Users/hiruna/mambaforge/lib/python3.10/site-packages (from matplotlib!=3.6.1,>=3.1->seaborn) (2.8.2)\n",
      "Requirement already satisfied: pytz>=2020.1 in /Users/hiruna/mambaforge/lib/python3.10/site-packages (from pandas>=0.25->seaborn) (2023.3.post1)\n",
      "Requirement already satisfied: tzdata>=2022.1 in /Users/hiruna/mambaforge/lib/python3.10/site-packages (from pandas>=0.25->seaborn) (2023.3)\n",
      "Requirement already satisfied: six>=1.5 in /Users/hiruna/mambaforge/lib/python3.10/site-packages (from python-dateutil>=2.7->matplotlib!=3.6.1,>=3.1->seaborn) (1.16.0)\n",
      "Requirement already satisfied: imblearn in /Users/hiruna/mambaforge/lib/python3.10/site-packages (0.0)\n",
      "Requirement already satisfied: imbalanced-learn in /Users/hiruna/mambaforge/lib/python3.10/site-packages (from imblearn) (0.11.0)\n",
      "Requirement already satisfied: numpy>=1.17.3 in /Users/hiruna/mambaforge/lib/python3.10/site-packages (from imbalanced-learn->imblearn) (1.26.0)\n",
      "Requirement already satisfied: scipy>=1.5.0 in /Users/hiruna/mambaforge/lib/python3.10/site-packages (from imbalanced-learn->imblearn) (1.11.2)\n",
      "Requirement already satisfied: scikit-learn>=1.0.2 in /Users/hiruna/mambaforge/lib/python3.10/site-packages (from imbalanced-learn->imblearn) (1.3.1)\n",
      "Requirement already satisfied: joblib>=1.1.1 in /Users/hiruna/mambaforge/lib/python3.10/site-packages (from imbalanced-learn->imblearn) (1.3.2)\n",
      "Requirement already satisfied: threadpoolctl>=2.0.0 in /Users/hiruna/mambaforge/lib/python3.10/site-packages (from imbalanced-learn->imblearn) (3.2.0)\n"
     ]
    }
   ],
   "source": [
    "!pip install matplotlib\n",
    "!pip install seaborn\n",
    "!pip install imblearn"
   ]
  },
  {
   "cell_type": "code",
   "execution_count": 23,
   "metadata": {
    "id": "bTrr9aVu0-rD"
   },
   "outputs": [],
   "source": [
    "import pandas as pd\n",
    "import numpy as np\n",
    "import matplotlib.pyplot as plt\n",
    "from sklearn import svm\n",
    "from sklearn.ensemble import RandomForestClassifier\n",
    "from sklearn.linear_model import LogisticRegression\n",
    "from sklearn.neighbors import KNeighborsClassifier\n",
    "from sklearn.preprocessing import StandardScaler\n",
    "from sklearn.model_selection import GridSearchCV, cross_val_score, RandomizedSearchCV\n",
    "from sklearn.metrics import accuracy_score\n",
    "from sklearn.metrics import mean_squared_error\n",
    "from sklearn.decomposition import PCA\n",
    "from sklearn.preprocessing import StandardScaler, RobustScaler\n",
    "import math\n",
    "import seaborn as sn\n",
    "from imblearn.over_sampling import RandomOverSampler"
   ]
  },
  {
   "cell_type": "code",
   "execution_count": 4,
   "metadata": {
    "id": "bjZgD5aC1MAq"
   },
   "outputs": [],
   "source": [
    "import warnings\n",
    "warnings.filterwarnings('ignore')"
   ]
  },
  {
   "cell_type": "code",
   "execution_count": 5,
   "metadata": {
    "id": "7IaV2u4R1Ov0"
   },
   "outputs": [],
   "source": [
    "train = pd.read_csv('./train.csv')\n",
    "valid = pd.read_csv('./valid.csv')\n",
    "test = pd.read_csv('./test.csv')"
   ]
  },
  {
   "cell_type": "code",
   "execution_count": 6,
   "metadata": {
    "colab": {
     "base_uri": "https://localhost:8080/"
    },
    "id": "hoWGm46R9UJa",
    "outputId": "857e9bab-fb08-45e0-e313-18c9f1c3046c"
   },
   "outputs": [
    {
     "name": "stdout",
     "output_type": "stream",
     "text": [
      "<class 'pandas.core.frame.DataFrame'>\n",
      "RangeIndex: 28520 entries, 0 to 28519\n",
      "Columns: 772 entries, feature_1 to label_4\n",
      "dtypes: float64(769), int64(3)\n",
      "memory usage: 168.0 MB\n"
     ]
    }
   ],
   "source": [
    "train.info()"
   ]
  },
  {
   "cell_type": "code",
   "execution_count": 7,
   "metadata": {
    "colab": {
     "base_uri": "https://localhost:8080/"
    },
    "id": "gx2CuUpH1nxV",
    "outputId": "83a22840-883d-45d8-b2ee-b7ce04a02105"
   },
   "outputs": [
    {
     "data": {
      "text/plain": [
       "feature_1        0\n",
       "feature_2        0\n",
       "feature_3        0\n",
       "feature_4        0\n",
       "feature_5        0\n",
       "              ... \n",
       "feature_768      0\n",
       "label_1          0\n",
       "label_2        480\n",
       "label_3          0\n",
       "label_4          0\n",
       "Length: 772, dtype: int64"
      ]
     },
     "execution_count": 7,
     "metadata": {},
     "output_type": "execute_result"
    }
   ],
   "source": [
    "train.isna().sum()"
   ]
  },
  {
   "cell_type": "code",
   "execution_count": 8,
   "metadata": {
    "colab": {
     "base_uri": "https://localhost:8080/"
    },
    "id": "ZVadONjdHZUm",
    "outputId": "3cce156d-324a-4c10-f296-a67400cec0de"
   },
   "outputs": [
    {
     "data": {
      "text/plain": [
       "Index(['feature_1', 'feature_2', 'feature_3', 'feature_4', 'feature_5',\n",
       "       'feature_6', 'feature_7', 'feature_8', 'feature_9', 'feature_10',\n",
       "       ...\n",
       "       'feature_763', 'feature_764', 'feature_765', 'feature_766',\n",
       "       'feature_767', 'feature_768', 'label_1', 'label_2', 'label_3',\n",
       "       'label_4'],\n",
       "      dtype='object', length=772)"
      ]
     },
     "execution_count": 8,
     "metadata": {},
     "output_type": "execute_result"
    }
   ],
   "source": [
    "train.columns"
   ]
  },
  {
   "cell_type": "code",
   "execution_count": 9,
   "metadata": {
    "colab": {
     "base_uri": "https://localhost:8080/"
    },
    "id": "wuz1rrQyHiuZ",
    "outputId": "8a3caf74-df53-464a-cadf-ac0fd4bc91a7"
   },
   "outputs": [
    {
     "data": {
      "text/plain": [
       "Index(['feature_1', 'feature_2', 'feature_3', 'feature_4', 'feature_5',\n",
       "       'feature_6', 'feature_7', 'feature_8', 'feature_9', 'feature_10',\n",
       "       ...\n",
       "       'feature_763', 'feature_764', 'feature_765', 'feature_766',\n",
       "       'feature_767', 'feature_768', 'label_1', 'label_2', 'label_3',\n",
       "       'label_4'],\n",
       "      dtype='object', length=772)"
      ]
     },
     "execution_count": 9,
     "metadata": {},
     "output_type": "execute_result"
    }
   ],
   "source": [
    "valid.columns"
   ]
  },
  {
   "cell_type": "code",
   "execution_count": 10,
   "metadata": {
    "colab": {
     "base_uri": "https://localhost:8080/"
    },
    "id": "iUH47ztlHoLq",
    "outputId": "259e9617-d519-41f6-bd90-a150cc721e77"
   },
   "outputs": [
    {
     "data": {
      "text/plain": [
       "Index(['ID', 'feature_1', 'feature_2', 'feature_3', 'feature_4', 'feature_5',\n",
       "       'feature_6', 'feature_7', 'feature_8', 'feature_9',\n",
       "       ...\n",
       "       'feature_759', 'feature_760', 'feature_761', 'feature_762',\n",
       "       'feature_763', 'feature_764', 'feature_765', 'feature_766',\n",
       "       'feature_767', 'feature_768'],\n",
       "      dtype='object', length=769)"
      ]
     },
     "execution_count": 10,
     "metadata": {},
     "output_type": "execute_result"
    }
   ],
   "source": [
    "test.columns"
   ]
  },
  {
   "cell_type": "code",
   "execution_count": 11,
   "metadata": {},
   "outputs": [],
   "source": [
    "def getModels():\n",
    "    return {\n",
    "        'svm' : svm.SVC(),\n",
    "        'random_forest' : RandomForestClassifier(),\n",
    "        'logistic_regression' : LogisticRegression(solver = 'liblinear', multi_class = 'auto'),\n",
    "        'knn' : KNeighborsClassifier()\n",
    "    }"
   ]
  },
  {
   "cell_type": "markdown",
   "metadata": {
    "id": "IQWs4KlzAcX1"
   },
   "source": [
    "### **Label 1**"
   ]
  },
  {
   "cell_type": "code",
   "execution_count": 12,
   "metadata": {
    "id": "ruo0WgHxGtjn"
   },
   "outputs": [],
   "source": [
    "x_train = train.drop(['label_1', 'label_2', 'label_3', 'label_4'], axis=1)\n",
    "x_valid = valid.drop(['label_1', 'label_2', 'label_3', 'label_4'], axis=1)\n",
    "x_test = test.drop(['ID'], axis=1)\n",
    "\n",
    "y_train = train[['label_1', 'label_2', 'label_3', 'label_4']]\n",
    "y_valid = valid[['label_1', 'label_2', 'label_3', 'label_4']]"
   ]
  },
  {
   "cell_type": "code",
   "execution_count": 13,
   "metadata": {},
   "outputs": [
    {
     "data": {
      "image/png": "[encoded data removed]",
      "text/plain": [
       "<Figure size 1000x600 with 1 Axes>"
      ]
     },
     "metadata": {},
     "output_type": "display_data"
    }
   ],
   "source": [
    "label1_value_counts = y_train['label_1'].value_counts()\n",
    "\n",
    "plt.figure(figsize=(10, 6))\n",
    "plt.bar(label1_value_counts.index, label1_value_counts.values)\n",
    "\n",
    "\n",
    "plt.xlabel('Label 1')\n",
    "plt.ylabel('Count')\n",
    "plt.title('Label 1 values distribution')\n",
    "\n",
    "plt.tight_layout() \n",
    "plt.show()"
   ]
  },
  {
   "cell_type": "code",
   "execution_count": 16,
   "metadata": {},
   "outputs": [],
   "source": [
    "scaler = StandardScaler()\n",
    "x_train_scaled = scaler.fit_transform(x_train)\n",
    "x_valid_scaled = scaler.transform(x_valid)\n",
    "x_test_scaled = scaler.transform(x_test)"
   ]
  },
  {
   "cell_type": "code",
   "execution_count": 17,
   "metadata": {},
   "outputs": [],
   "source": [
    "pca = PCA(n_components=0.95, svd_solver = 'full')\n",
    "x_train_pca = pca.fit_transform(x_train_scaled)\n",
    "x_valid_pca = pca.transform(x_valid_scaled)\n",
    "x_test_pca = pca.transform(x_test_scaled)"
   ]
  },
  {
   "cell_type": "code",
   "execution_count": 18,
   "metadata": {},
   "outputs": [
    {
     "data": {
      "text/html": [
       "<div>\n",
       "<style scoped>\n",
       "    .dataframe tbody tr th:only-of-type {\n",
       "        vertical-align: middle;\n",
       "    }\n",
       "\n",
       "    .dataframe tbody tr th {\n",
       "        vertical-align: top;\n",
       "    }\n",
       "\n",
       "    .dataframe thead th {\n",
       "        text-align: right;\n",
       "    }\n",
       "</style>\n",
       "<table border=\"1\" class=\"dataframe\">\n",
       "  <thead>\n",
       "    <tr style=\"text-align: right;\">\n",
       "      <th></th>\n",
       "      <th>model</th>\n",
       "      <th>score</th>\n",
       "    </tr>\n",
       "  </thead>\n",
       "  <tbody>\n",
       "    <tr>\n",
       "      <th>0</th>\n",
       "      <td>svm</td>\n",
       "      <td>0.936957</td>\n",
       "    </tr>\n",
       "    <tr>\n",
       "      <th>1</th>\n",
       "      <td>random_forest</td>\n",
       "      <td>0.846003</td>\n",
       "    </tr>\n",
       "    <tr>\n",
       "      <th>2</th>\n",
       "      <td>logistic_regression</td>\n",
       "      <td>0.944460</td>\n",
       "    </tr>\n",
       "    <tr>\n",
       "      <th>3</th>\n",
       "      <td>knn</td>\n",
       "      <td>0.881136</td>\n",
       "    </tr>\n",
       "  </tbody>\n",
       "</table>\n",
       "</div>"
      ],
      "text/plain": [
       "                 model     score\n",
       "0                  svm  0.936957\n",
       "1        random_forest  0.846003\n",
       "2  logistic_regression  0.944460\n",
       "3                  knn  0.881136"
      ]
     },
     "execution_count": 18,
     "metadata": {},
     "output_type": "execute_result"
    }
   ],
   "source": [
    "\n",
    "scores = []\n",
    "for model_name, model in getModels().items():\n",
    "    fold_scores = cross_val_score(model, x_train_pca, y_train['label_1'], cv=3, scoring='accuracy', n_jobs = -1)\n",
    "    scores.append({\n",
    "        'model' : model_name,\n",
    "        'score' : np.mean(fold_scores)\n",
    "    })  \n",
    "\n",
    "df = pd.DataFrame(scores, columns = ['model', 'score'])\n",
    "df"
   ]
  },
  {
   "cell_type": "code",
   "execution_count": 19,
   "metadata": {
    "id": "_8YzBNijesZk"
   },
   "outputs": [],
   "source": [
    "model_data = {\n",
    "    'svm' : {\n",
    "        'model':svm.SVC(gamma = 'auto'),\n",
    "        'params' : {\n",
    "            'C': [1, 10, 100],\n",
    "            'kernel': ['rbf', 'linear']}\n",
    "    },\n",
    "    'logistic_regression' : {\n",
    "        'model':LogisticRegression(solver = 'liblinear', multi_class = 'auto'),\n",
    "        'params' : {\n",
    "            'C': [1, 10, 100]\n",
    "        }\n",
    "    }\n",
    "}"
   ]
  },
  {
   "cell_type": "code",
   "execution_count": 24,
   "metadata": {},
   "outputs": [],
   "source": [
    "accuracy_scores = []\n",
    "\n",
    "for model_name, model_info in model_data.items():\n",
    "    clf = RandomizedSearchCV(model_info['model'], param_distributions = model_info['params'], n_iter=5, cv=3, scoring='accuracy', random_state=42, n_jobs=-1)\n",
    "    clf.fit(x_train_pca, y_train['label_1'])\n",
    "    accuracy_scores.append({\n",
    "      'model' : model_name,\n",
    "      'best_score' : clf.best_score_,\n",
    "      'best_params' : clf.best_params_\n",
    "})"
   ]
  },
  {
   "cell_type": "code",
   "execution_count": 25,
   "metadata": {
    "id": "nzq0PbbciW8M"
   },
   "outputs": [
    {
     "data": {
      "text/html": [
       "<div>\n",
       "<style scoped>\n",
       "    .dataframe tbody tr th:only-of-type {\n",
       "        vertical-align: middle;\n",
       "    }\n",
       "\n",
       "    .dataframe tbody tr th {\n",
       "        vertical-align: top;\n",
       "    }\n",
       "\n",
       "    .dataframe thead th {\n",
       "        text-align: right;\n",
       "    }\n",
       "</style>\n",
       "<table border=\"1\" class=\"dataframe\">\n",
       "  <thead>\n",
       "    <tr style=\"text-align: right;\">\n",
       "      <th></th>\n",
       "      <th>model</th>\n",
       "      <th>best_score</th>\n",
       "      <th>best_params</th>\n",
       "    </tr>\n",
       "  </thead>\n",
       "  <tbody>\n",
       "    <tr>\n",
       "      <th>0</th>\n",
       "      <td>svm</td>\n",
       "      <td>0.943198</td>\n",
       "      <td>{'kernel': 'linear', 'C': 1}</td>\n",
       "    </tr>\n",
       "    <tr>\n",
       "      <th>1</th>\n",
       "      <td>logistic_regression</td>\n",
       "      <td>0.944460</td>\n",
       "      <td>{'C': 1}</td>\n",
       "    </tr>\n",
       "  </tbody>\n",
       "</table>\n",
       "</div>"
      ],
      "text/plain": [
       "                 model  best_score                   best_params\n",
       "0                  svm    0.943198  {'kernel': 'linear', 'C': 1}\n",
       "1  logistic_regression    0.944460                      {'C': 1}"
      ]
     },
     "execution_count": 25,
     "metadata": {},
     "output_type": "execute_result"
    }
   ],
   "source": [
    "df_hyp_tuning = pd.DataFrame(accuracy_scores, columns = ['model', 'best_score', 'best_params'])\n",
    "df_hyp_tuning"
   ]
  },
  {
   "cell_type": "code",
   "execution_count": 26,
   "metadata": {},
   "outputs": [
    {
     "data": {
      "text/plain": [
       "0.952"
      ]
     },
     "execution_count": 26,
     "metadata": {},
     "output_type": "execute_result"
    }
   ],
   "source": [
    "best_model_l1 = LogisticRegression(C=1)\n",
    "best_model_l1.fit(x_train_pca, y_train['label_1'])\n",
    "\n",
    "#validation\n",
    "fold_scores_l1 = cross_val_score(best_model_l1, x_valid_pca, y_valid['label_1'], cv=3, scoring='accuracy', n_jobs = -1)\n",
    "np.mean(fold_scores_l1)"
   ]
  },
  {
   "cell_type": "code",
   "execution_count": 28,
   "metadata": {},
   "outputs": [
    {
     "data": {
      "text/plain": [
       "(744,)"
      ]
     },
     "execution_count": 28,
     "metadata": {},
     "output_type": "execute_result"
    }
   ],
   "source": [
    "y_test_label1 = best_model_l1.predict(x_test_pca)\n",
    "y_test_label1.shape"
   ]
  },
  {
   "cell_type": "markdown",
   "metadata": {},
   "source": [
    "## **Label 2**"
   ]
  },
  {
   "cell_type": "code",
   "execution_count": 29,
   "metadata": {},
   "outputs": [
    {
     "data": {
      "text/plain": [
       "480"
      ]
     },
     "execution_count": 29,
     "metadata": {},
     "output_type": "execute_result"
    }
   ],
   "source": [
    "train['label_2'].isnull().sum()"
   ]
  },
  {
   "cell_type": "code",
   "execution_count": 30,
   "metadata": {},
   "outputs": [
    {
     "data": {
      "text/plain": [
       "14"
      ]
     },
     "execution_count": 30,
     "metadata": {},
     "output_type": "execute_result"
    }
   ],
   "source": [
    "valid['label_2'].isnull().sum()"
   ]
  },
  {
   "cell_type": "code",
   "execution_count": 31,
   "metadata": {},
   "outputs": [
    {
     "data": {
      "text/plain": [
       "0"
      ]
     },
     "execution_count": 31,
     "metadata": {},
     "output_type": "execute_result"
    }
   ],
   "source": [
    "train_l2 = train.dropna(subset = ['label_2'])\n",
    "train_l2['label_2'].isnull().sum()"
   ]
  },
  {
   "cell_type": "code",
   "execution_count": 32,
   "metadata": {},
   "outputs": [
    {
     "data": {
      "text/plain": [
       "0"
      ]
     },
     "execution_count": 32,
     "metadata": {},
     "output_type": "execute_result"
    }
   ],
   "source": [
    "valid_l2 = valid.dropna(subset = ['label_2'])\n",
    "valid_l2['label_2'].isnull().sum()"
   ]
  },
  {
   "cell_type": "code",
   "execution_count": 33,
   "metadata": {},
   "outputs": [],
   "source": [
    "x_train = train_l2.drop(['label_1', 'label_2', 'label_3', 'label_4'], axis=1)\n",
    "x_valid = valid_l2.drop(['label_1', 'label_2', 'label_3', 'label_4'], axis=1)\n",
    "x_test = test.drop(['ID'], axis=1)\n",
    "\n",
    "y_train = train_l2[['label_1', 'label_2', 'label_3', 'label_4']]\n",
    "y_valid = valid_l2[['label_1', 'label_2', 'label_3', 'label_4']]"
   ]
  },
  {
   "cell_type": "code",
   "execution_count": 34,
   "metadata": {},
   "outputs": [
    {
     "data": {
      "image/png": "[encoded data removed]",
      "text/plain": [
       "<Figure size 1000x600 with 1 Axes>"
      ]
     },
     "metadata": {},
     "output_type": "display_data"
    }
   ],
   "source": [
    "label2_value_counts = y_train['label_2'].value_counts()\n",
    "\n",
    "plt.figure(figsize=(10, 6))\n",
    "bars = plt.bar(label2_value_counts.index, label2_value_counts.values)\n",
    "\n",
    "\n",
    "plt.xlabel('Label 2')\n",
    "plt.ylabel('Count')\n",
    "plt.title('Label 2 values distribution')\n",
    "\n",
    "for bar, count in zip(bars, label2_value_counts.values):\n",
    "    plt.annotate(str(count), xy=(bar.get_x() + bar.get_width() / 2, bar.get_height()), \n",
    "                 xytext=(0, 3), textcoords='offset points', ha='center', va='bottom')\n",
    "\n",
    "\n",
    "plt.tight_layout() \n",
    "plt.show()"
   ]
  },
  {
   "cell_type": "code",
   "execution_count": 35,
   "metadata": {},
   "outputs": [],
   "source": [
    "scaler = RobustScaler()\n",
    "x_train_scaled = scaler.fit_transform(x_train)\n",
    "x_val_scaled = scaler.transform(x_valid)\n",
    "x_test_scaled = scaler.transform(x_test)"
   ]
  },
  {
   "cell_type": "code",
   "execution_count": 36,
   "metadata": {},
   "outputs": [],
   "source": [
    "pca = PCA(n_components=0.95, svd_solver = 'full')\n",
    "x_train_pca = pca.fit_transform(x_train_scaled)\n",
    "x_val_pca = pca.transform(x_val_scaled)\n",
    "x_test_pca = pca.transform(x_test_scaled)"
   ]
  },
  {
   "cell_type": "code",
   "execution_count": 37,
   "metadata": {},
   "outputs": [
    {
     "data": {
      "text/html": [
       "<div>\n",
       "<style scoped>\n",
       "    .dataframe tbody tr th:only-of-type {\n",
       "        vertical-align: middle;\n",
       "    }\n",
       "\n",
       "    .dataframe tbody tr th {\n",
       "        vertical-align: top;\n",
       "    }\n",
       "\n",
       "    .dataframe thead th {\n",
       "        text-align: right;\n",
       "    }\n",
       "</style>\n",
       "<table border=\"1\" class=\"dataframe\">\n",
       "  <thead>\n",
       "    <tr style=\"text-align: right;\">\n",
       "      <th></th>\n",
       "      <th>model</th>\n",
       "      <th>score</th>\n",
       "    </tr>\n",
       "  </thead>\n",
       "  <tbody>\n",
       "    <tr>\n",
       "      <th>0</th>\n",
       "      <td>svm</td>\n",
       "      <td>0.347253</td>\n",
       "    </tr>\n",
       "    <tr>\n",
       "      <th>1</th>\n",
       "      <td>random_forest</td>\n",
       "      <td>0.271718</td>\n",
       "    </tr>\n",
       "    <tr>\n",
       "      <th>2</th>\n",
       "      <td>logistic_regression</td>\n",
       "      <td>0.305206</td>\n",
       "    </tr>\n",
       "    <tr>\n",
       "      <th>3</th>\n",
       "      <td>knn</td>\n",
       "      <td>0.346361</td>\n",
       "    </tr>\n",
       "  </tbody>\n",
       "</table>\n",
       "</div>"
      ],
      "text/plain": [
       "                 model     score\n",
       "0                  svm  0.347253\n",
       "1        random_forest  0.271718\n",
       "2  logistic_regression  0.305206\n",
       "3                  knn  0.346361"
      ]
     },
     "execution_count": 37,
     "metadata": {},
     "output_type": "execute_result"
    }
   ],
   "source": [
    "scores = []\n",
    "for model_name, model in getModels().items():\n",
    "    fold_scores = cross_val_score(model, x_train_pca, y_train['label_2'], cv=3, scoring='accuracy', n_jobs = -1)\n",
    "    scores.append({\n",
    "        'model' : model_name,\n",
    "        'score' : np.mean(fold_scores)\n",
    "    })  \n",
    "\n",
    "df_raw = pd.DataFrame(scores, columns = ['model', 'score'])\n",
    "df_raw"
   ]
  },
  {
   "cell_type": "code",
   "execution_count": 38,
   "metadata": {},
   "outputs": [],
   "source": [
    "model_data = {\n",
    "    'svm' : {\n",
    "        'model':svm.SVC(gamma = 'auto'),\n",
    "        'params' : {\n",
    "            'C': [1, 10, 100],\n",
    "            'kernel': ['rbf', 'linear']}\n",
    "    },\n",
    "    'knn' : {\n",
    "        'model' : KNeighborsClassifier(),\n",
    "        'params' : {\n",
    "            'n_neighbors' : list(range(1,5)),\n",
    "            'p' : [1,2]\n",
    "        }\n",
    "    }\n",
    "}"
   ]
  },
  {
   "cell_type": "code",
   "execution_count": 40,
   "metadata": {},
   "outputs": [],
   "source": [
    "accuracy_scores = []\n",
    "\n",
    "for model_name, model_info in model_data.items(): \n",
    "    clf = RandomizedSearchCV(model_info['model'], param_distributions = model_info['params'], n_iter=5, cv=3, scoring='accuracy', random_state=42, n_jobs=-1)\n",
    "    clf.fit(x_train_pca, y_train['label_2'])\n",
    "    accuracy_scores.append({\n",
    "      'model' : model_name,\n",
    "      'best_score' : clf.best_score_,\n",
    "      'best_params' : clf.best_params_\n",
    "  })"
   ]
  },
  {
   "cell_type": "code",
   "execution_count": 41,
   "metadata": {},
   "outputs": [
    {
     "data": {
      "text/html": [
       "<div>\n",
       "<style scoped>\n",
       "    .dataframe tbody tr th:only-of-type {\n",
       "        vertical-align: middle;\n",
       "    }\n",
       "\n",
       "    .dataframe tbody tr th {\n",
       "        vertical-align: top;\n",
       "    }\n",
       "\n",
       "    .dataframe thead th {\n",
       "        text-align: right;\n",
       "    }\n",
       "</style>\n",
       "<table border=\"1\" class=\"dataframe\">\n",
       "  <thead>\n",
       "    <tr style=\"text-align: right;\">\n",
       "      <th></th>\n",
       "      <th>model</th>\n",
       "      <th>best_score</th>\n",
       "      <th>best_params</th>\n",
       "    </tr>\n",
       "  </thead>\n",
       "  <tbody>\n",
       "    <tr>\n",
       "      <th>0</th>\n",
       "      <td>svm</td>\n",
       "      <td>0.362302</td>\n",
       "      <td>{'kernel': 'rbf', 'C': 10}</td>\n",
       "    </tr>\n",
       "    <tr>\n",
       "      <th>1</th>\n",
       "      <td>logistic_regression</td>\n",
       "      <td>0.306276</td>\n",
       "      <td>{'C': 10}</td>\n",
       "    </tr>\n",
       "    <tr>\n",
       "      <th>2</th>\n",
       "      <td>knn</td>\n",
       "      <td>0.365227</td>\n",
       "      <td>{'p': 1, 'n_neighbors': 1}</td>\n",
       "    </tr>\n",
       "  </tbody>\n",
       "</table>\n",
       "</div>"
      ],
      "text/plain": [
       "                 model  best_score                 best_params\n",
       "0                  svm    0.362302  {'kernel': 'rbf', 'C': 10}\n",
       "1  logistic_regression    0.306276                   {'C': 10}\n",
       "2                  knn    0.365227  {'p': 1, 'n_neighbors': 1}"
      ]
     },
     "execution_count": 41,
     "metadata": {},
     "output_type": "execute_result"
    }
   ],
   "source": [
    "df_hyp_tuning = pd.DataFrame(accuracy_scores, columns = ['model', 'best_score', 'best_params'])\n",
    "df_hyp_tuning"
   ]
  },
  {
   "cell_type": "code",
   "execution_count": 42,
   "metadata": {},
   "outputs": [
    {
     "data": {
      "text/plain": [
       "0.9116847826086957"
      ]
     },
     "execution_count": 42,
     "metadata": {},
     "output_type": "execute_result"
    }
   ],
   "source": [
    "best_model_l2 = KNeighborsClassifier(n_neighbors = 1, p = 2)\n",
    "best_model_l2.fit(x_train_pca, y_train['label_2'])\n",
    "\n",
    "#validation\n",
    "fold_scores_l2 = cross_val_score(best_model_l2, x_val_pca, y_valid['label_2'], cv=3, scoring='accuracy', n_jobs = -1)\n",
    "np.mean(fold_scores_l2)"
   ]
  },
  {
   "cell_type": "code",
   "execution_count": 43,
   "metadata": {},
   "outputs": [
    {
     "data": {
      "text/plain": [
       "array([22., 25., 30., 27., 29., 30., 27., 33., 23., 22., 26., 25., 27.,\n",
       "       26., 23., 26., 28., 25., 34., 29., 33., 24., 29., 25., 61., 26.,\n",
       "       28., 23., 25., 26., 23., 30., 30., 24., 28., 33., 24., 25., 26.,\n",
       "       25., 23., 23., 25., 30., 31., 22., 26., 24., 25., 23., 22., 24.,\n",
       "       29., 27., 23., 23., 30., 34., 28., 25., 30., 23., 23., 26., 28.,\n",
       "       25., 25., 25., 22., 32., 33., 26., 61., 30., 23., 31., 26., 31.,\n",
       "       27., 26., 34., 32., 23., 23., 27., 26., 31., 23., 26., 29., 22.,\n",
       "       31., 25., 23., 27., 30., 31., 25., 27., 29., 23., 22., 26., 22.,\n",
       "       24., 36., 26., 26., 32., 25., 27., 27., 26., 24., 30., 24., 26.,\n",
       "       25., 26., 26., 29., 26., 41., 33., 32., 28., 27., 35., 34., 27.,\n",
       "       26., 27., 36., 23., 28., 22., 29., 27., 30., 31., 28., 25., 26.,\n",
       "       31., 23., 30., 30., 26., 33., 30., 29., 27., 23., 24., 31., 30.,\n",
       "       23., 25., 28., 41., 31., 25., 25., 28., 30., 26., 30., 26., 26.,\n",
       "       25., 23., 27., 31., 30., 33., 24., 25., 34., 30., 23., 27., 25.,\n",
       "       26., 26., 27., 23., 26., 28., 28., 23., 30., 34., 28., 31., 26.,\n",
       "       30., 28., 31., 31., 29., 26., 27., 25., 31., 33., 35., 30., 22.,\n",
       "       26., 22., 23., 22., 22., 26., 30., 61., 29., 23., 32., 25., 24.,\n",
       "       29., 28., 27., 26., 33., 29., 28., 28., 32., 25., 27., 27., 30.,\n",
       "       30., 41., 31., 28., 41., 27., 36., 30., 23., 25., 28., 26., 34.,\n",
       "       26., 30., 31., 24., 26., 25., 26., 26., 25., 35., 26., 27., 33.,\n",
       "       25., 33., 25., 31., 41., 27., 29., 24., 24., 29., 27., 27., 23.,\n",
       "       24., 27., 24., 23., 23., 28., 22., 26., 27., 25., 23., 25., 25.,\n",
       "       23., 23., 27., 24., 28., 23., 30., 27., 30., 26., 25., 25., 26.,\n",
       "       26., 61., 26., 28., 26., 30., 30., 26., 22., 22., 61., 27., 26.,\n",
       "       30., 27., 24., 24., 22., 41., 26., 25., 29., 28., 41., 23., 26.,\n",
       "       26., 24., 26., 22., 26., 27., 36., 35., 31., 22., 29., 26., 25.,\n",
       "       27., 23., 28., 36., 33., 23., 27., 22., 23., 24., 22., 31., 23.,\n",
       "       26., 26., 26., 29., 27., 61., 28., 25., 26., 28., 26., 24., 31.,\n",
       "       41., 61., 28., 31., 26., 29., 23., 28., 27., 26., 31., 31., 31.,\n",
       "       26., 36., 27., 29., 29., 36., 26., 27., 28., 27., 28., 25., 31.,\n",
       "       33., 24., 25., 28., 30., 26., 27., 29., 26., 24., 22., 25., 26.,\n",
       "       24., 26., 29., 25., 23., 34., 23., 23., 26., 23., 24., 28., 28.,\n",
       "       24., 31., 25., 61., 26., 41., 32., 26., 61., 28., 41., 25., 27.,\n",
       "       27., 41., 28., 25., 29., 33., 29., 26., 29., 27., 34., 28., 26.,\n",
       "       25., 23., 26., 36., 26., 26., 26., 26., 24., 23., 23., 26., 23.,\n",
       "       32., 34., 25., 26., 33., 26., 26., 28., 23., 23., 22., 28., 29.,\n",
       "       27., 24., 25., 27., 27., 31., 31., 27., 27., 28., 30., 27., 22.,\n",
       "       30., 31., 26., 27., 31., 28., 27., 23., 25., 26., 26., 23., 26.,\n",
       "       27., 23., 26., 23., 27., 31., 26., 33., 33., 26., 35., 30., 24.,\n",
       "       26., 28., 24., 34., 29., 23., 30., 27., 30., 22., 27., 29., 33.,\n",
       "       22., 23., 28., 30., 23., 25., 23., 28., 33., 26., 31., 26., 31.,\n",
       "       26., 26., 25., 26., 30., 27., 31., 28., 61., 24., 27., 31., 27.,\n",
       "       27., 26., 25., 23., 24., 61., 27., 32., 25., 33., 26., 24., 23.,\n",
       "       31., 28., 23., 26., 26., 26., 31., 26., 28., 26., 27., 22., 22.,\n",
       "       28., 24., 26., 30., 23., 26., 31., 36., 26., 26., 25., 23., 26.,\n",
       "       23., 26., 23., 30., 29., 27., 26., 26., 29., 26., 26., 24., 30.,\n",
       "       30., 26., 30., 25., 26., 23., 23., 25., 31., 23., 27., 30., 26.,\n",
       "       30., 25., 26., 31., 25., 41., 27., 23., 23., 27., 23., 25., 28.,\n",
       "       22., 25., 35., 35., 26., 28., 33., 23., 27., 24., 23., 41., 26.,\n",
       "       31., 23., 25., 33., 23., 31., 28., 31., 22., 24., 41., 24., 28.,\n",
       "       27., 22., 27., 26., 33., 27., 27., 61., 23., 34., 25., 25., 25.,\n",
       "       31., 31., 29., 27., 27., 24., 30., 23., 24., 26., 35., 23., 25.,\n",
       "       26., 30., 30., 27., 23., 26., 32., 31., 25., 26., 25., 23., 23.,\n",
       "       25., 27., 36., 29., 26., 28., 31., 29., 41., 24., 28., 28., 25.,\n",
       "       35., 30., 24., 61., 30., 23., 26., 25., 34., 24., 30., 23., 23.,\n",
       "       36., 22., 31., 26., 61., 26., 33., 27., 25., 28., 26., 27., 26.,\n",
       "       26., 23., 30., 31., 28., 23., 24., 24., 22., 31., 27., 32., 24.,\n",
       "       27., 32., 26.])"
      ]
     },
     "execution_count": 43,
     "metadata": {},
     "output_type": "execute_result"
    }
   ],
   "source": [
    "y_test_label2 = best_model_l2.predict(x_test_pca)\n",
    "y_test_label2.shape"
   ]
  },
  {
   "cell_type": "markdown",
   "metadata": {},
   "source": [
    "### **Label 3**"
   ]
  },
  {
   "cell_type": "code",
   "execution_count": 44,
   "metadata": {},
   "outputs": [
    {
     "data": {
      "text/plain": [
       "0"
      ]
     },
     "execution_count": 44,
     "metadata": {},
     "output_type": "execute_result"
    }
   ],
   "source": [
    "train['label_3'].isnull().sum()"
   ]
  },
  {
   "cell_type": "code",
   "execution_count": 45,
   "metadata": {},
   "outputs": [
    {
     "data": {
      "text/plain": [
       "0"
      ]
     },
     "execution_count": 45,
     "metadata": {},
     "output_type": "execute_result"
    }
   ],
   "source": [
    "valid['label_3'].isnull().sum()"
   ]
  },
  {
   "cell_type": "code",
   "execution_count": 46,
   "metadata": {},
   "outputs": [],
   "source": [
    "x_train = train.drop(['label_1', 'label_2', 'label_3', 'label_4'], axis=1)\n",
    "x_valid = valid.drop(['label_1', 'label_2', 'label_3', 'label_4'], axis=1)\n",
    "x_test = test.drop(['ID'], axis=1)\n",
    "\n",
    "y_train = train[['label_1', 'label_2', 'label_3', 'label_4']]\n",
    "y_valid = valid[['label_1', 'label_2', 'label_3', 'label_4']]"
   ]
  },
  {
   "cell_type": "code",
   "execution_count": 47,
   "metadata": {},
   "outputs": [
    {
     "data": {
      "image/png": "[encoded data removed]",
      "text/plain": [
       "<Figure size 640x480 with 1 Axes>"
      ]
     },
     "metadata": {},
     "output_type": "display_data"
    }
   ],
   "source": [
    "ax = sn.countplot(x=y_train['label_3'])\n",
    "\n",
    "for p in ax.patches:\n",
    "    ax.annotate(f'{p.get_height()}', (p.get_x() + p.get_width() / 2., p.get_height()),\n",
    "                ha='center', va='bottom', fontsize=9, color='black')\n",
    "\n",
    "plt.xlabel('Label 3')\n",
    "\n",
    "plt.show()"
   ]
  },
  {
   "cell_type": "code",
   "execution_count": 48,
   "metadata": {},
   "outputs": [],
   "source": [
    "scaler = StandardScaler()\n",
    "x_train_scaled = scaler.fit_transform(x_train)\n",
    "x_valid_scaled = scaler.transform(x_valid)\n",
    "x_test_scaled = scaler.transform(x_test)"
   ]
  },
  {
   "cell_type": "code",
   "execution_count": 49,
   "metadata": {},
   "outputs": [],
   "source": [
    "pca = PCA(n_components=0.95, svd_solver = 'full')\n",
    "x_train_pca = pca.fit_transform(x_train_scaled)\n",
    "x_val_pca = pca.transform(x_valid_scaled)\n",
    "x_test_pca = pca.transform(x_test_scaled)"
   ]
  },
  {
   "cell_type": "code",
   "execution_count": 50,
   "metadata": {},
   "outputs": [
    {
     "data": {
      "text/html": [
       "<div>\n",
       "<style scoped>\n",
       "    .dataframe tbody tr th:only-of-type {\n",
       "        vertical-align: middle;\n",
       "    }\n",
       "\n",
       "    .dataframe tbody tr th {\n",
       "        vertical-align: top;\n",
       "    }\n",
       "\n",
       "    .dataframe thead th {\n",
       "        text-align: right;\n",
       "    }\n",
       "</style>\n",
       "<table border=\"1\" class=\"dataframe\">\n",
       "  <thead>\n",
       "    <tr style=\"text-align: right;\">\n",
       "      <th></th>\n",
       "      <th>model</th>\n",
       "      <th>score</th>\n",
       "    </tr>\n",
       "  </thead>\n",
       "  <tbody>\n",
       "    <tr>\n",
       "      <th>0</th>\n",
       "      <td>svm</td>\n",
       "      <td>0.976332</td>\n",
       "    </tr>\n",
       "    <tr>\n",
       "      <th>1</th>\n",
       "      <td>random_forest</td>\n",
       "      <td>0.880680</td>\n",
       "    </tr>\n",
       "    <tr>\n",
       "      <th>2</th>\n",
       "      <td>logistic_regression</td>\n",
       "      <td>0.973141</td>\n",
       "    </tr>\n",
       "    <tr>\n",
       "      <th>3</th>\n",
       "      <td>knn</td>\n",
       "      <td>0.925245</td>\n",
       "    </tr>\n",
       "  </tbody>\n",
       "</table>\n",
       "</div>"
      ],
      "text/plain": [
       "                 model     score\n",
       "0                  svm  0.976332\n",
       "1        random_forest  0.880680\n",
       "2  logistic_regression  0.973141\n",
       "3                  knn  0.925245"
      ]
     },
     "execution_count": 50,
     "metadata": {},
     "output_type": "execute_result"
    }
   ],
   "source": [
    "\n",
    "scores = []\n",
    "for model_name, model in getModels().items():\n",
    "    fold_scores = cross_val_score(model, x_train_pca, y_train['label_3'], cv=3, scoring='accuracy', n_jobs = -1)\n",
    "    scores.append({\n",
    "        'model' : model_name,\n",
    "        'score' : np.mean(fold_scores)\n",
    "    })  \n",
    "\n",
    "df_raw = pd.DataFrame(scores, columns = ['model', 'score'])\n",
    "df_raw"
   ]
  },
  {
   "cell_type": "code",
   "execution_count": 51,
   "metadata": {},
   "outputs": [],
   "source": [
    "model_data = {\n",
    "    'svm' : {\n",
    "        'model':svm.SVC(gamma = 'auto'),\n",
    "        'params' : {\n",
    "            'C': [1, 10, 100],\n",
    "            'kernel': ['rbf', 'linear']}\n",
    "    },\n",
    "    'logistic_regression' : {\n",
    "        'model':LogisticRegression(solver = 'liblinear', multi_class = 'auto'),\n",
    "        'params' : {\n",
    "            'C': [1, 10, 100]\n",
    "        }\n",
    "    }\n",
    "}"
   ]
  },
  {
   "cell_type": "code",
   "execution_count": 52,
   "metadata": {},
   "outputs": [],
   "source": [
    "accuracy_scores = []\n",
    "\n",
    "for model_name, model_info in model_data.items():\n",
    "  clf = RandomizedSearchCV(model_info['model'], param_distributions = model_info['params'], n_iter=5, cv=3, scoring='accuracy', random_state=42, n_jobs=-1)\n",
    "  clf.fit(x_train_pca, y_train['label_3'])\n",
    "  accuracy_scores.append({\n",
    "      'model' : model_name,\n",
    "      'best_score' : clf.best_score_,\n",
    "      'best_params' : clf.best_params_\n",
    "  })"
   ]
  },
  {
   "cell_type": "code",
   "execution_count": 53,
   "metadata": {},
   "outputs": [
    {
     "data": {
      "text/html": [
       "<div>\n",
       "<style scoped>\n",
       "    .dataframe tbody tr th:only-of-type {\n",
       "        vertical-align: middle;\n",
       "    }\n",
       "\n",
       "    .dataframe tbody tr th {\n",
       "        vertical-align: top;\n",
       "    }\n",
       "\n",
       "    .dataframe thead th {\n",
       "        text-align: right;\n",
       "    }\n",
       "</style>\n",
       "<table border=\"1\" class=\"dataframe\">\n",
       "  <thead>\n",
       "    <tr style=\"text-align: right;\">\n",
       "      <th></th>\n",
       "      <th>model</th>\n",
       "      <th>best_score</th>\n",
       "      <th>best_params</th>\n",
       "    </tr>\n",
       "  </thead>\n",
       "  <tbody>\n",
       "    <tr>\n",
       "      <th>0</th>\n",
       "      <td>svm</td>\n",
       "      <td>0.970056</td>\n",
       "      <td>{'kernel': 'linear', 'C': 100}</td>\n",
       "    </tr>\n",
       "    <tr>\n",
       "      <th>1</th>\n",
       "      <td>logistic_regression</td>\n",
       "      <td>0.973141</td>\n",
       "      <td>{'C': 1}</td>\n",
       "    </tr>\n",
       "  </tbody>\n",
       "</table>\n",
       "</div>"
      ],
      "text/plain": [
       "                 model  best_score                     best_params\n",
       "0                  svm    0.970056  {'kernel': 'linear', 'C': 100}\n",
       "1  logistic_regression    0.973141                        {'C': 1}"
      ]
     },
     "execution_count": 53,
     "metadata": {},
     "output_type": "execute_result"
    }
   ],
   "source": [
    "df_hyp_tuning = pd.DataFrame(accuracy_scores, columns = ['model', 'best_score', 'best_params'])\n",
    "df_hyp_tuning"
   ]
  },
  {
   "cell_type": "code",
   "execution_count": 54,
   "metadata": {},
   "outputs": [
    {
     "data": {
      "text/plain": [
       "1.0"
      ]
     },
     "execution_count": 54,
     "metadata": {},
     "output_type": "execute_result"
    }
   ],
   "source": [
    "best_model_l3 = svm.SVC(C = 100, kernel = 'rbf')\n",
    "best_model_l3.fit(x_train_pca, y_train['label_3'])\n",
    "\n",
    "#validation\n",
    "fold_scores_l3 = cross_val_score(best_model_l3, x_val_pca, y_valid['label_3'], cv=3, scoring='accuracy', n_jobs = -1)\n",
    "np.mean(fold_scores_l3)"
   ]
  },
  {
   "cell_type": "code",
   "execution_count": 55,
   "metadata": {},
   "outputs": [
    {
     "data": {
      "text/plain": [
       "array([0, 1, 1, 1, 0, 1, 1, 1, 1, 0, 1, 1, 1, 1, 1, 1, 1, 1, 0, 1, 1, 1,\n",
       "       1, 0, 1, 1, 0, 1, 1, 1, 1, 1, 1, 0, 1, 1, 1, 1, 1, 1, 1, 0, 1, 1,\n",
       "       0, 1, 1, 1, 1, 1, 1, 0, 1, 1, 1, 1, 1, 0, 0, 1, 1, 0, 1, 1, 1, 1,\n",
       "       1, 1, 0, 1, 1, 0, 1, 1, 1, 0, 1, 1, 0, 0, 0, 1, 1, 1, 1, 1, 1, 1,\n",
       "       0, 1, 0, 0, 1, 1, 1, 1, 1, 1, 1, 1, 1, 0, 1, 0, 1, 1, 0, 1, 1, 1,\n",
       "       0, 1, 1, 1, 1, 1, 1, 1, 1, 1, 1, 1, 1, 1, 1, 1, 1, 1, 0, 1, 0, 1,\n",
       "       1, 1, 0, 1, 1, 0, 1, 1, 1, 1, 1, 1, 1, 1, 1, 1, 1, 1, 1, 1, 0, 1,\n",
       "       1, 1, 1, 1, 1, 1, 1, 1, 1, 0, 1, 1, 1, 1, 1, 1, 1, 0, 1, 1, 1, 1,\n",
       "       1, 0, 1, 1, 1, 1, 1, 1, 1, 1, 1, 0, 1, 1, 1, 0, 1, 1, 1, 1, 0, 1,\n",
       "       1, 0, 1, 0, 1, 1, 1, 1, 1, 1, 1, 0, 1, 0, 0, 1, 1, 1, 1, 0, 1, 1,\n",
       "       1, 1, 1, 1, 1, 1, 0, 1, 1, 1, 1, 1, 1, 1, 1, 1, 0, 0, 1, 0, 1, 1,\n",
       "       1, 1, 1, 1, 0, 1, 1, 1, 1, 1, 1, 1, 1, 1, 1, 1, 0, 1, 1, 1, 1, 0,\n",
       "       1, 1, 0, 1, 1, 0, 1, 1, 0, 1, 0, 1, 0, 0, 0, 0, 1, 1, 1, 1, 1, 1,\n",
       "       1, 1, 0, 1, 1, 1, 1, 1, 1, 1, 1, 1, 1, 1, 1, 1, 1, 1, 1, 1, 1, 1,\n",
       "       0, 1, 1, 1, 1, 0, 0, 1, 0, 1, 1, 1, 1, 0, 1, 1, 1, 1, 0, 1, 0, 1,\n",
       "       1, 1, 1, 1, 0, 1, 1, 1, 1, 1, 1, 1, 1, 0, 1, 1, 1, 1, 1, 1, 1, 1,\n",
       "       0, 1, 1, 1, 1, 1, 1, 0, 1, 1, 0, 1, 1, 1, 1, 0, 1, 1, 1, 0, 1, 1,\n",
       "       1, 0, 1, 1, 1, 0, 0, 1, 1, 1, 0, 1, 1, 1, 1, 0, 1, 1, 1, 1, 1, 1,\n",
       "       1, 1, 1, 1, 1, 1, 1, 1, 1, 0, 1, 1, 0, 1, 1, 1, 0, 1, 0, 0, 1, 1,\n",
       "       1, 1, 1, 1, 1, 1, 1, 1, 1, 1, 1, 1, 1, 1, 1, 1, 1, 1, 1, 0, 0, 0,\n",
       "       1, 1, 1, 1, 1, 1, 1, 1, 1, 1, 1, 1, 1, 1, 0, 1, 0, 1, 1, 1, 1, 1,\n",
       "       1, 1, 1, 0, 1, 0, 0, 1, 1, 1, 0, 0, 1, 1, 1, 1, 1, 0, 1, 1, 0, 0,\n",
       "       1, 0, 1, 1, 1, 1, 1, 1, 1, 1, 1, 1, 1, 1, 1, 1, 1, 1, 1, 1, 1, 1,\n",
       "       0, 0, 1, 0, 0, 1, 1, 1, 1, 1, 0, 1, 1, 1, 0, 0, 1, 1, 1, 1, 0, 1,\n",
       "       1, 1, 1, 1, 1, 1, 1, 1, 1, 1, 1, 0, 0, 1, 0, 0, 1, 1, 1, 1, 1, 1,\n",
       "       0, 1, 1, 1, 1, 1, 1, 1, 1, 1, 1, 1, 1, 1, 1, 1, 1, 1, 1, 1, 0, 0,\n",
       "       1, 1, 1, 1, 1, 1, 1, 1, 0, 1, 1, 0, 1, 1, 1, 1, 1, 1, 1, 1, 1, 1,\n",
       "       1, 1, 0, 1, 1, 1, 1, 1, 1, 1, 1, 1, 0, 0, 0, 1, 1, 1, 1, 1, 0, 1,\n",
       "       1, 1, 1, 1, 0, 1, 1, 1, 0, 1, 1, 1, 0, 1, 1, 1, 1, 1, 1, 1, 1, 1,\n",
       "       1, 1, 1, 1, 1, 1, 1, 1, 1, 1, 1, 1, 1, 1, 0, 1, 1, 1, 1, 1, 1, 0,\n",
       "       1, 1, 1, 0, 0, 1, 1, 1, 0, 1, 1, 1, 1, 1, 1, 1, 1, 1, 1, 1, 1, 1,\n",
       "       1, 0, 1, 1, 1, 1, 1, 1, 0, 1, 1, 1, 1, 0, 1, 1, 1, 1, 1, 1, 1, 1,\n",
       "       1, 1, 1, 1, 1, 1, 0, 1, 1, 0, 1, 1, 0, 0, 1, 1, 1, 1, 1, 1, 1, 1,\n",
       "       1, 1, 1, 1, 1, 0, 0, 1, 1, 0, 0, 1, 1, 1, 1, 1, 1, 1])"
      ]
     },
     "execution_count": 55,
     "metadata": {},
     "output_type": "execute_result"
    }
   ],
   "source": [
    "y_test_label3 = best_model_l3.predict(x_test_pca)\n",
    "y_test_label3.shape"
   ]
  },
  {
   "cell_type": "markdown",
   "metadata": {},
   "source": [
    "### **Label 4**"
   ]
  },
  {
   "cell_type": "code",
   "execution_count": 56,
   "metadata": {},
   "outputs": [
    {
     "data": {
      "text/plain": [
       "0"
      ]
     },
     "execution_count": 56,
     "metadata": {},
     "output_type": "execute_result"
    }
   ],
   "source": [
    "train['label_4'].isnull().sum()"
   ]
  },
  {
   "cell_type": "code",
   "execution_count": 57,
   "metadata": {},
   "outputs": [
    {
     "data": {
      "text/plain": [
       "0"
      ]
     },
     "execution_count": 57,
     "metadata": {},
     "output_type": "execute_result"
    }
   ],
   "source": [
    "valid['label_4'].isnull().sum()"
   ]
  },
  {
   "cell_type": "code",
   "execution_count": 58,
   "metadata": {},
   "outputs": [],
   "source": [
    "x_train = train.drop(['label_1', 'label_2', 'label_3', 'label_4'], axis=1)\n",
    "x_valid = valid.drop(['label_1', 'label_2', 'label_3', 'label_4'], axis=1)\n",
    "x_test = test.drop(['ID'], axis=1)\n",
    "\n",
    "y_train = train[['label_1', 'label_2', 'label_3', 'label_4']]\n",
    "y_valid = valid[['label_1', 'label_2', 'label_3', 'label_4']]"
   ]
  },
  {
   "cell_type": "code",
   "execution_count": 59,
   "metadata": {},
   "outputs": [
    {
     "data": {
      "image/png": "[encoded data removed]",
      "text/plain": [
       "<Figure size 1000x600 with 1 Axes>"
      ]
     },
     "metadata": {},
     "output_type": "display_data"
    }
   ],
   "source": [
    "label4_value_counts = y_train['label_4'].value_counts()\n",
    "\n",
    "plt.figure(figsize=(10, 6))\n",
    "bars = plt.bar(label4_value_counts.index, label4_value_counts.values)\n",
    "\n",
    "\n",
    "plt.xlabel('Label 4')\n",
    "plt.ylabel('Count')\n",
    "plt.title('Label 4 values distribution')\n",
    "\n",
    "for bar, count in zip(bars, label4_value_counts.values):\n",
    "    plt.annotate(str(count), xy=(bar.get_x() + bar.get_width() / 2, bar.get_height()), \n",
    "                 xytext=(0, 3), textcoords='offset points', ha='center', va='bottom')\n",
    "\n",
    "\n",
    "plt.tight_layout() \n",
    "plt.show()"
   ]
  },
  {
   "cell_type": "code",
   "execution_count": 60,
   "metadata": {},
   "outputs": [],
   "source": [
    "sampler = RandomOverSampler(random_state=0)\n",
    "x_train_resampled, y_train_resampled = sampler.fit_resample(x_train, y_train['label_4'])"
   ]
  },
  {
   "cell_type": "code",
   "execution_count": 61,
   "metadata": {},
   "outputs": [],
   "source": [
    "label4_value_counts = y_train_resampled.value_counts()\n",
    "\n",
    "plt.figure(figsize=(10, 6))\n",
    "bars = plt.bar(label4_value_counts.index, label4_value_counts.values)\n",
    "\n",
    "\n",
    "plt.xlabel('Label 4')\n",
    "plt.ylabel('Count')\n",
    "plt.title('Label 4 values distribution after OverSampling')\n",
    "\n",
    "for bar, count in zip(bars, label4_value_counts.values):\n",
    "    plt.annotate(str(count), xy=(bar.get_x() + bar.get_width() / 2, bar.get_height()), \n",
    "                 xytext=(0, 3), textcoords='offset points', ha='center', va='bottom')\n",
    "\n",
    "\n",
    "plt.tight_layout() \n",
    "plt.show()"
   ]
  },
  {
   "cell_type": "code",
   "execution_count": 62,
   "metadata": {},
   "outputs": [],
   "source": [
    "scaler = StandardScaler()\n",
    "x_train_scaled = scaler.fit_transform(x_train_resampled)\n",
    "x_valid_scaled = scaler.transform(x_valid)\n",
    "x_test_scaled = scaler.transform(x_test)"
   ]
  },
  {
   "cell_type": "code",
   "execution_count": 63,
   "metadata": {},
   "outputs": [],
   "source": [
    "pca = PCA(n_components=0.95, svd_solver = 'full')\n",
    "x_train_pca = pca.fit_transform(x_train_scaled)\n",
    "x_val_pca = pca.transform(x_valid_scaled)\n",
    "x_test_pca = pca.transform(x_test_scaled)"
   ]
  },
  {
   "cell_type": "code",
   "execution_count": 64,
   "metadata": {},
   "outputs": [
    {
     "data": {
      "text/html": [
       "<div>\n",
       "<style scoped>\n",
       "    .dataframe tbody tr th:only-of-type {\n",
       "        vertical-align: middle;\n",
       "    }\n",
       "\n",
       "    .dataframe tbody tr th {\n",
       "        vertical-align: top;\n",
       "    }\n",
       "\n",
       "    .dataframe thead th {\n",
       "        text-align: right;\n",
       "    }\n",
       "</style>\n",
       "<table border=\"1\" class=\"dataframe\">\n",
       "  <thead>\n",
       "    <tr style=\"text-align: right;\">\n",
       "      <th></th>\n",
       "      <th>model</th>\n",
       "      <th>score</th>\n",
       "    </tr>\n",
       "  </thead>\n",
       "  <tbody>\n",
       "    <tr>\n",
       "      <th>0</th>\n",
       "      <td>svm</td>\n",
       "      <td>0.887237</td>\n",
       "    </tr>\n",
       "    <tr>\n",
       "      <th>1</th>\n",
       "      <td>random_forest</td>\n",
       "      <td>0.714586</td>\n",
       "    </tr>\n",
       "    <tr>\n",
       "      <th>2</th>\n",
       "      <td>logistic_regression</td>\n",
       "      <td>0.823878</td>\n",
       "    </tr>\n",
       "    <tr>\n",
       "      <th>3</th>\n",
       "      <td>knn</td>\n",
       "      <td>0.817530</td>\n",
       "    </tr>\n",
       "  </tbody>\n",
       "</table>\n",
       "</div>"
      ],
      "text/plain": [
       "                 model     score\n",
       "0                  svm  0.887237\n",
       "1        random_forest  0.714586\n",
       "2  logistic_regression  0.823878\n",
       "3                  knn  0.817530"
      ]
     },
     "execution_count": 64,
     "metadata": {},
     "output_type": "execute_result"
    }
   ],
   "source": [
    "scores = []\n",
    "for model_name, model in getModels().items():\n",
    "    fold_scores = cross_val_score(model, x_train_pca, y_train_resampled['label_4'], cv=3, scoring='accuracy', n_jobs = -1)\n",
    "    scores.append({\n",
    "        'model' : model_name,\n",
    "        'score' : np.mean(fold_scores)\n",
    "    }) \n",
    "\n",
    "df_raw = pd.DataFrame(scores, columns = ['model', 'score'])\n",
    "df_raw"
   ]
  },
  {
   "cell_type": "code",
   "execution_count": 65,
   "metadata": {},
   "outputs": [],
   "source": [
    "model_data = {\n",
    "    'svm' : {\n",
    "        'model':svm.SVC(gamma = 'auto'),\n",
    "        'params' : {\n",
    "            'C': [1, 10, 100],\n",
    "            'kernel': ['rbf', 'linear']}\n",
    "    },\n",
    "    'logistic_regression' : {\n",
    "        'model':LogisticRegression(solver = 'liblinear', multi_class = 'auto'),\n",
    "        'params' : {\n",
    "            'C': [1, 10, 100]\n",
    "        }\n",
    "    },\n",
    "    'knn' : {\n",
    "        'model' : KNeighborsClassifier(),\n",
    "        'params' : {\n",
    "            'n_neighbors' : list(range(1,5)),\n",
    "            'p' : [1,2]\n",
    "        }\n",
    "    }\n",
    "}"
   ]
  },
  {
   "cell_type": "code",
   "execution_count": 66,
   "metadata": {},
   "outputs": [],
   "source": [
    "accuracy_scores = []\n",
    "\n",
    "for model_name, model_info in model_data.items():\n",
    "  clf = RandomizedSearchCV(model_info['model'], param_distributions = model_info['params'], n_iter=5, cv=3, scoring='accuracy', random_state=42, n_jobs=-1)\n",
    "  clf.fit(x_train_pca, y_train_resampled['label_4'])\n",
    "  accuracy_scores.append({\n",
    "      'model' : model_name,\n",
    "      'best_score' : clf.best_score_,\n",
    "      'best_params' : clf.best_params_\n",
    "  })"
   ]
  },
  {
   "cell_type": "code",
   "execution_count": 67,
   "metadata": {},
   "outputs": [
    {
     "data": {
      "text/html": [
       "<div>\n",
       "<style scoped>\n",
       "    .dataframe tbody tr th:only-of-type {\n",
       "        vertical-align: middle;\n",
       "    }\n",
       "\n",
       "    .dataframe tbody tr th {\n",
       "        vertical-align: top;\n",
       "    }\n",
       "\n",
       "    .dataframe thead th {\n",
       "        text-align: right;\n",
       "    }\n",
       "</style>\n",
       "<table border=\"1\" class=\"dataframe\">\n",
       "  <thead>\n",
       "    <tr style=\"text-align: right;\">\n",
       "      <th></th>\n",
       "      <th>model</th>\n",
       "      <th>best_score</th>\n",
       "      <th>best_params</th>\n",
       "    </tr>\n",
       "  </thead>\n",
       "  <tbody>\n",
       "    <tr>\n",
       "      <th>0</th>\n",
       "      <td>svm</td>\n",
       "      <td>0.899930</td>\n",
       "      <td>{'kernel': 'rbf', 'C': 10}</td>\n",
       "    </tr>\n",
       "    <tr>\n",
       "      <th>1</th>\n",
       "      <td>logistic_regression</td>\n",
       "      <td>0.823878</td>\n",
       "      <td>{'C': 1}</td>\n",
       "    </tr>\n",
       "    <tr>\n",
       "      <th>2</th>\n",
       "      <td>knn</td>\n",
       "      <td>0.801717</td>\n",
       "      <td>{'p': 2, 'n_neighbors': 4}</td>\n",
       "    </tr>\n",
       "  </tbody>\n",
       "</table>\n",
       "</div>"
      ],
      "text/plain": [
       "                 model  best_score                 best_params\n",
       "0                  svm    0.899930  {'kernel': 'rbf', 'C': 10}\n",
       "1  logistic_regression    0.823878                    {'C': 1}\n",
       "2                  knn    0.801717  {'p': 2, 'n_neighbors': 4}"
      ]
     },
     "execution_count": 67,
     "metadata": {},
     "output_type": "execute_result"
    }
   ],
   "source": [
    "df_hyp_tuning = pd.DataFrame(accuracy_scores, columns = ['model', 'best_score', 'best_params'])\n",
    "df_hyp_tuning"
   ]
  },
  {
   "cell_type": "code",
   "execution_count": 68,
   "metadata": {},
   "outputs": [
    {
     "ename": "NameError",
     "evalue": "name 'y_train_resampled' is not defined",
     "output_type": "error",
     "traceback": [
      "\u001b[0;31m---------------------------------------------------------------------------\u001b[0m",
      "\u001b[0;31mNameError\u001b[0m                                 Traceback (most recent call last)",
      "Cell \u001b[0;32mIn[68], line 2\u001b[0m\n\u001b[1;32m      1\u001b[0m best_model_l4 \u001b[38;5;241m=\u001b[39m svm\u001b[38;5;241m.\u001b[39mSVC(C \u001b[38;5;241m=\u001b[39m \u001b[38;5;241m100\u001b[39m, kernel \u001b[38;5;241m=\u001b[39m \u001b[38;5;124m'\u001b[39m\u001b[38;5;124mrbf\u001b[39m\u001b[38;5;124m'\u001b[39m)\n\u001b[0;32m----> 2\u001b[0m best_model_l4\u001b[38;5;241m.\u001b[39mfit(x_train_pca, \u001b[43my_train_resampled\u001b[49m)\n\u001b[1;32m      4\u001b[0m \u001b[38;5;66;03m#validation\u001b[39;00m\n\u001b[1;32m      5\u001b[0m y_valid_pred \u001b[38;5;241m=\u001b[39m best_model_l4\u001b[38;5;241m.\u001b[39mpredict(x_valid_pca)\n",
      "\u001b[0;31mNameError\u001b[0m: name 'y_train_resampled' is not defined"
     ]
    }
   ],
   "source": [
    "best_model_l4 = svm.SVC(C = 100, kernel = 'rbf')\n",
    "best_model_l4.fit(x_train_pca, y_train_resampled)\n",
    "\n",
    "#validation\n",
    "fold_scores_l4 = cross_val_score(best_model_l4, x_val_pca, y_valid['label_4'], cv=3, scoring='accuracy', n_jobs = -1)\n",
    "np.mean(fold_scores_l4)"
   ]
  },
  {
   "cell_type": "code",
   "execution_count": null,
   "metadata": {},
   "outputs": [],
   "source": [
    "y_test_label4 = best_model_l4.predict(x_test_pca)\n",
    "y_test_label4.shape"
   ]
  },
  {
   "cell_type": "code",
   "execution_count": null,
   "metadata": {},
   "outputs": [],
   "source": [
    "final_df = test[['ID']]\n",
    "final_df['label_1'] = y_test_label1\n",
    "final_df['label_2'] = y_test_label2\n",
    "final_df['label_3'] = y_test_label3\n",
    "final_df['label_4'] = y_test_label4"
   ]
  },
  {
   "cell_type": "code",
   "execution_count": null,
   "metadata": {},
   "outputs": [],
   "source": [
    "final_df.to_csv('Outputs/Layer-10/solutions_layer10.csv', index=False)"
   ]
  },
  {
   "cell_type": "code",
   "execution_count": null,
   "metadata": {},
   "outputs": [],
   "source": []
  },
  {
   "cell_type": "code",
   "execution_count": null,
   "metadata": {},
   "outputs": [],
   "source": []
  },
  {
   "cell_type": "code",
   "execution_count": null,
   "metadata": {},
   "outputs": [],
   "source": []
  },
  {
   "cell_type": "code",
   "execution_count": null,
   "metadata": {},
   "outputs": [],
   "source": []
  },
  {
   "cell_type": "code",
   "execution_count": null,
   "metadata": {},
   "outputs": [],
   "source": []
  }
 ],
 "metadata": {
  "colab": {
   "provenance": []
  },
  "kernelspec": {
   "display_name": "Python 3 (ipykernel)",
   "language": "python",
   "name": "python3"
  },
  "language_info": {
   "codemirror_mode": {
    "name": "ipython",
    "version": 3
   },
   "file_extension": ".py",
   "mimetype": "text/x-python",
   "name": "python",
   "nbconvert_exporter": "python",
   "pygments_lexer": "ipython3",
   "version": "3.10.12"
  }
 },
 "nbformat": 4,
 "nbformat_minor": 4
}
